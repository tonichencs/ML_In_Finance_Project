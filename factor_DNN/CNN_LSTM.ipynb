{
  "cells": [
    {
      "cell_type": "code",
      "execution_count": 12,
      "metadata": {
        "id": "Ev_04q4J-Mf0"
      },
      "outputs": [],
      "source": [
        "from google.colab import drive\n",
        "\n",
        "import numpy as np\n",
        "import pandas as pd\n",
        "from sklearn.preprocessing import StandardScaler\n",
        "from sklearn.metrics import classification_report, accuracy_score, confusion_matrix\n",
        "import tensorflow as tf\n",
        "from tensorflow.keras.models import Sequential\n",
        "from tensorflow.keras.layers import Conv1D, LSTM, Dense, Dropout, BatchNormalization, Bidirectional\n",
        "from tensorflow.keras.optimizers import Adam\n",
        "from tensorflow.keras.callbacks import EarlyStopping, ReduceLROnPlateau\n",
        "from sklearn.utils.class_weight import compute_class_weight"
      ]
    },
    {
      "cell_type": "code",
      "execution_count": 2,
      "metadata": {
        "id": "gwM9An7--UHv"
      },
      "outputs": [],
      "source": [
        "import warnings\n",
        "warnings.filterwarnings('ignore')"
      ]
    },
    {
      "cell_type": "code",
      "execution_count": 3,
      "metadata": {
        "colab": {
          "base_uri": "https://localhost:8080/"
        },
        "id": "xc78GwOy-WvH",
        "outputId": "59158938-4cc9-4474-d67c-0c827d1ec4db"
      },
      "outputs": [
        {
          "output_type": "stream",
          "name": "stdout",
          "text": [
            "Mounted at /content/drive\n"
          ]
        }
      ],
      "source": [
        "drive.mount('/content/drive')"
      ]
    },
    {
      "cell_type": "code",
      "execution_count": 4,
      "metadata": {
        "id": "Uj4VwZwK-XJ1"
      },
      "outputs": [],
      "source": [
        "stock_data = pd.read_csv(\"/content/drive/MyDrive/final_data.csv\")\n",
        "stock_data  = stock_data [stock_data ['date'].between('2009-01-01', '2024-12-31')]"
      ]
    },
    {
      "cell_type": "code",
      "execution_count": 5,
      "metadata": {
        "id": "4TzCmLL6-eTY"
      },
      "outputs": [],
      "source": [
        "id_col = [\"PERMNO\", 'CUSIP', 'Ticker', 'SICCD','NAICS']\n",
        "time_col = ['MthCalDt']\n",
        "factor_col = ['mom_12','mom_6', 'vol_12', 'vol_6', 'rev_1', 'rvol_1',\"rsi_6\", 'trend_strength']\n",
        "market_col = [ 'qmj_safety','seas_11_15na',\n",
        "              'ret_3_1', 'iskew_ff3_21d', 'rskew_21d', 'sti_gr1a','earnings_variability', 'nfna_gr1a',\n",
        "              'seas_16_20an', 'corr_1260d']\n",
        "fin_col = ['capxy', 'chechy', 'cshfdy', 'cshpry', 'dltry', 'dpcy',\n",
        "       'epspxy', 'oibdpy', 'txty']"
      ]
    },
    {
      "cell_type": "code",
      "source": [
        "def prepare_data_simple(df, sequence_length=12, fin_col=fin_col, factor_col=factor_col, market_col=market_col):\n",
        "    \"\"\"Prepare data (simplified version)\"\"\"\n",
        "\n",
        "    feature_cols = fin_col + factor_col + market_col\n",
        "\n",
        "    # Ensure data is sorted by stock and date\n",
        "    df_sorted = df.sort_values(['PERMNO', 'date']).reset_index(drop=True)\n",
        "\n",
        "    print(\"\\nStep 1: Standardizing all feature data...\")\n",
        "    all_features = df_sorted[feature_cols].values\n",
        "    scaler = StandardScaler()\n",
        "    all_features_scaled = scaler.fit_transform(all_features)\n",
        "\n",
        "    df_with_scaled_features = df_sorted.copy()\n",
        "    df_with_scaled_features[feature_cols] = all_features_scaled\n",
        "\n",
        "    print(f\"Standardization completed, feature shape: {all_features_scaled.shape}\")\n",
        "\n",
        "    print(\"\\nStep 2: Transforming stock data into time series...\")\n",
        "    X_3d = []\n",
        "    y_3d = []\n",
        "    date_3d = []\n",
        "    stock_3d = []\n",
        "\n",
        "    stock_count = 0\n",
        "    valid_sequences = 0\n",
        "\n",
        "    for permno, group in df_with_scaled_features.groupby('PERMNO'):\n",
        "        group = group.sort_values('date').reset_index(drop=True)\n",
        "        stock_count += 1\n",
        "\n",
        "        if len(group) < sequence_length + 1:\n",
        "            continue\n",
        "\n",
        "        # Extract standardized features and targets for this stock\n",
        "        stock_features_scaled = group[feature_cols].values  # already standardized\n",
        "        stock_targets = group['pred_cat'].values\n",
        "        stock_dates = group['date'].values\n",
        "\n",
        "        # Create sliding windows for this stock\n",
        "        for i in range(sequence_length, len(group)):\n",
        "            # Features: use standardized features from period i-sequence_length to i-1\n",
        "            X_sequence = stock_features_scaled[i-sequence_length:i]\n",
        "            # Target: use pred_cat from period i\n",
        "            y_target = stock_targets[i]\n",
        "\n",
        "            # Check if target variable is valid\n",
        "            if not np.isnan(y_target):\n",
        "                X_3d.append(X_sequence)\n",
        "                y_3d.append(y_target)\n",
        "                date_3d.append(stock_dates[i])\n",
        "                stock_3d.append(permno)\n",
        "                valid_sequences += 1\n",
        "\n",
        "    X_3d = np.array(X_3d)\n",
        "    y_3d = np.array(y_3d)\n",
        "    date_3d = np.array(date_3d)\n",
        "    stock_3d = np.array(stock_3d)\n",
        "\n",
        "    print(f\"Time series transformation completed!\")\n",
        "\n",
        "    # Step 3: Re-sort all samples by time\n",
        "    print(\"\\nStep 3: Re-sorting by time...\")\n",
        "    time_sort_idx = np.argsort(date_3d)\n",
        "    X_3d = X_3d[time_sort_idx]\n",
        "    y_3d = y_3d[time_sort_idx]\n",
        "    date_3d = date_3d[time_sort_idx]\n",
        "    stock_3d = stock_3d[time_sort_idx]\n",
        "\n",
        "    print(f\"Time sorting completed!\")\n",
        "    print(f\"\\nFinal data statistics:\")\n",
        "    print(f\"Total stocks: {stock_count}\")\n",
        "    print(f\"Valid sequences: {valid_sequences}\")\n",
        "    print(f\"Final sample count: {X_3d.shape[0]}\")\n",
        "    print(f\"Sequence length: {X_3d.shape[1]}\")\n",
        "    print(f\"Feature count: {X_3d.shape[2]}\")\n",
        "    print(f\"Time range: {date_3d[0]} to {date_3d[-1]}\")\n",
        "    print(f\"Number of unique stocks: {len(np.unique(stock_3d))}\")\n",
        "\n",
        "    # Validate time sorting\n",
        "    print(f\"\\nTime sorting validation:\")\n",
        "    is_time_sorted = np.all(date_3d[:-1] <= date_3d[1:])\n",
        "    print(f\"Is data sorted by time: {is_time_sorted}\")\n",
        "    if not is_time_sorted:\n",
        "        print(\"Warning: Data is not correctly sorted by time!\")\n",
        "    else:\n",
        "        print(\" Data is correctly sorted by time\")\n",
        "\n",
        "    # Validate standardization\n",
        "    print(f\"\\nStandardization validation:\")\n",
        "    feature_means = X_3d.reshape(-1, X_3d.shape[-1]).mean(axis=0)\n",
        "    feature_stds = X_3d.reshape(-1, X_3d.shape[-1]).std(axis=0)\n",
        "    print(f\"Feature mean range: [{feature_means.min():.6f}, {feature_means.max():.6f}]\")\n",
        "    print(f\"Feature std range: [{feature_stds.min():.6f}, {feature_stds.max():.6f}]\")\n",
        "\n",
        "    return X_3d, y_3d.astype(int), date_3d, stock_3d, scaler\n",
        "\n",
        "def time_split_data(X, y, dates, stocks, train_ratio=0.7, val_ratio=0.15):\n",
        "    \"\"\"\n",
        "    Split data by time (considering stock information)\n",
        "    \"\"\"\n",
        "    # Sort all samples by date\n",
        "    sort_idx = np.argsort(dates)\n",
        "    X_sorted = X[sort_idx]\n",
        "    y_sorted = y[sort_idx]\n",
        "    dates_sorted = dates[sort_idx]\n",
        "    stocks_sorted = stocks[sort_idx]\n",
        "\n",
        "    n_samples = len(X_sorted)\n",
        "    train_end = int(n_samples * train_ratio)\n",
        "    val_end = int(n_samples * (train_ratio + val_ratio))\n",
        "\n",
        "    X_train = X_sorted[:train_end]\n",
        "    X_val = X_sorted[train_end:val_end]\n",
        "    X_test = X_sorted[val_end:]\n",
        "\n",
        "    y_train = y_sorted[:train_end]\n",
        "    y_val = y_sorted[train_end:val_end]\n",
        "    y_test = y_sorted[val_end:]\n",
        "\n",
        "    print(f\"\\nDataset split:\")\n",
        "    print(f\"Training set: {X_train.shape[0]} samples\")\n",
        "    print(f\"Validation set: {X_val.shape[0]} samples\")\n",
        "    print(f\"Test set: {X_test.shape[0]} samples\")\n",
        "    print(f\"Training set time range: {dates_sorted[0]} to {dates_sorted[train_end-1]}\")\n",
        "    print(f\"Validation set time range: {dates_sorted[train_end]} to {dates_sorted[val_end-1]}\")\n",
        "    print(f\"Test set time range: {dates_sorted[val_end]} to {dates_sorted[-1]}\")\n",
        "\n",
        "    # Count unique stocks in each set\n",
        "    print(f\"Training set unique stocks: {len(np.unique(stocks_sorted[:train_end]))}\")\n",
        "    print(f\"Validation set unique stocks: {len(np.unique(stocks_sorted[train_end:val_end]))}\")\n",
        "    print(f\"Test set unique stocks: {len(np.unique(stocks_sorted[val_end:]))}\")\n",
        "\n",
        "    return X_train, X_val, X_test, y_train, y_val, y_test\n",
        "\n",
        "def create_model(input_shape, num_classes=2):\n",
        "    \"\"\"\n",
        "    Create a simple and fast CNN+LSTM model\n",
        "    \"\"\"\n",
        "    model = Sequential([\n",
        "        # Simplified CNN layer: only one layer\n",
        "        Conv1D(filters=16, kernel_size=3, activation='relu',\n",
        "               input_shape=input_shape, padding='same'),\n",
        "        Dropout(0.2),  # Add dropout\n",
        "\n",
        "        # Simplified LSTM layer: reduced units\n",
        "        LSTM(16, return_sequences=False, dropout=0.2, recurrent_dropout=0.2),\n",
        "\n",
        "        # Simplified classification layer\n",
        "        Dense(8, activation='relu'),\n",
        "        Dropout(0.3),  # Higher dropout\n",
        "        Dense(1 if num_classes == 2 else num_classes,\n",
        "              activation='sigmoid' if num_classes == 2 else 'softmax')\n",
        "    ])\n",
        "\n",
        "    return model\n",
        "\n",
        "def train_model(X_train, y_train, X_val, y_val, num_classes=2):\n",
        "\n",
        "    unique_classes = np.unique(y_train)\n",
        "    class_weights = compute_class_weight(\n",
        "        'balanced',\n",
        "        classes=unique_classes,\n",
        "        y=y_train\n",
        "    )\n",
        "    class_weight_dict = dict(zip(unique_classes, class_weights))\n",
        "\n",
        "    print(f\"\\nClass weights for imbalanced data: {class_weight_dict}\")\n",
        "\n",
        "    # Create model\n",
        "    model = create_model(\n",
        "        input_shape=(X_train.shape[1], X_train.shape[2]),\n",
        "        num_classes=num_classes\n",
        "    )\n",
        "\n",
        "    # Compile model\n",
        "    if num_classes == 2:\n",
        "        model.compile(\n",
        "            optimizer=Adam(learning_rate=0.001),\n",
        "            loss='binary_crossentropy',\n",
        "            metrics=['accuracy']\n",
        "        )\n",
        "    else:\n",
        "        model.compile(\n",
        "            optimizer=Adam(learning_rate=0.001),\n",
        "            loss='sparse_categorical_crossentropy',\n",
        "            metrics=['accuracy']\n",
        "        )\n",
        "\n",
        "    print(\"\\nModel architecture:\")\n",
        "    model.summary()\n",
        "\n",
        "    # Set up callbacks\n",
        "    callbacks = [\n",
        "        EarlyStopping(monitor='val_loss', patience=10, restore_best_weights=True),\n",
        "        ReduceLROnPlateau(monitor='val_loss', factor=0.5, patience=5, min_lr=1e-6)\n",
        "    ]\n",
        "\n",
        "    # Train model with class weights\n",
        "    print(\"\\nStart training...\")\n",
        "    history = model.fit(\n",
        "        X_train, y_train,\n",
        "        validation_data=(X_val, y_val),\n",
        "        epochs=50,\n",
        "        batch_size=256,\n",
        "        callbacks=callbacks,\n",
        "        class_weight=class_weight_dict,\n",
        "        verbose=1\n",
        "    )\n",
        "\n",
        "    return model, history\n",
        "\n",
        "def evaluate_model(model, X_test, y_test):\n",
        "    \"\"\"\n",
        "    Evaluate the model\n",
        "    \"\"\"\n",
        "    # Predict\n",
        "    y_pred_proba = model.predict(X_test)\n",
        "    if y_pred_proba.shape[1] == 1:  # Binary classification sigmoid output\n",
        "        y_pred = (y_pred_proba > 0.5).astype(int).flatten()\n",
        "    else:  # Multi-class softmax output\n",
        "        y_pred = np.argmax(y_pred_proba, axis=1)\n",
        "\n",
        "    # Evaluate\n",
        "    accuracy = accuracy_score(y_test, y_pred)\n",
        "    print(f\"\\nTest accuracy: {accuracy:.4f}\")\n",
        "\n",
        "    print(\"\\nClassification report:\")\n",
        "    print(classification_report(y_test, y_pred))\n",
        "\n",
        "    print(\"\\nConfusion matrix:\")\n",
        "    print(confusion_matrix(y_test, y_pred))\n",
        "\n",
        "    return y_pred, y_pred_proba\n",
        "\n",
        "# Complete training pipeline\n",
        "def run_complete_pipeline(df, sequence_length=20):\n",
        "    \"\"\"\n",
        "    Complete training pipeline\n",
        "    \"\"\"\n",
        "    # 1. Data preparation\n",
        "    X, y, dates, stocks, scaler = prepare_data_simple(df, sequence_length)\n",
        "\n",
        "    # 2. Time-based split\n",
        "    X_train, X_val, X_test, y_train, y_val, y_test = time_split_data(\n",
        "        X, y, dates, stocks, train_ratio=0.7, val_ratio=0.15\n",
        "    )\n",
        "\n",
        "    # 3. Check number of classes\n",
        "    num_classes = len(np.unique(y))\n",
        "    print(f\"\\nNumber of classes: {num_classes}\")\n",
        "    print(f\"Class distribution: {np.bincount(y)}\")\n",
        "\n",
        "    # 4. Train model\n",
        "    model, history = train_model(X_train, y_train, X_val, y_val, num_classes)\n",
        "\n",
        "    # 5. Evaluate model\n",
        "    y_pred, y_pred_proba = evaluate_model(model, X_test, y_test)\n",
        "\n",
        "    return model, history, scaler, (X_train, X_val, X_test, y_train, y_val, y_test)"
      ],
      "metadata": {
        "id": "YjSmQcKWoqn3"
      },
      "execution_count": 18,
      "outputs": []
    },
    {
      "cell_type": "code",
      "source": [
        "# Usage Example\n",
        "if __name__ == \"__main__\":\n",
        "    # Assume your data is already loaded as df\n",
        "    # df = pd.read_csv('your_data.csv')\n",
        "\n",
        "    # Run complete pipeline\n",
        "    model, history, scaler, data_splits = run_complete_pipeline(stock_data, sequence_length=12)\n",
        "\n",
        "    # Save model\n",
        "    # model.save('stock_prediction_model.h5')\n",
        "\n",
        "    print(\"\\nTraining completed!\")"
      ],
      "metadata": {
        "colab": {
          "base_uri": "https://localhost:8080/",
          "height": 1000
        },
        "id": "gza6zQDFk2ZJ",
        "outputId": "a9eb1a54-b716-49cc-bb66-f9b808e0c0b5"
      },
      "execution_count": 19,
      "outputs": [
        {
          "output_type": "stream",
          "name": "stdout",
          "text": [
            "\n",
            "Step 1: Standardizing all feature data...\n",
            "Standardization completed, feature shape: (1286513, 27)\n",
            "\n",
            "Step 2: Transforming stock data into time series...\n",
            "Time series transformation completed!\n",
            "\n",
            "Step 3: Re-sorting by time...\n",
            "Time sorting completed!\n",
            "\n",
            "Final data statistics:\n",
            "Total stocks: 15045\n",
            "Valid sequences: 1115706\n",
            "Final sample count: 1115706\n",
            "Sequence length: 12\n",
            "Feature count: 27\n",
            "Time range: 2009-02-27 to 2024-12-31\n",
            "Number of unique stocks: 13233\n",
            "\n",
            "Time sorting validation:\n",
            "Is data sorted by time: True\n",
            " Data is correctly sorted by time\n",
            "\n",
            "Standardization validation:\n",
            "Feature mean range: [-0.035892, 0.034067]\n",
            "Feature std range: [0.847246, 1.072608]\n",
            "\n",
            "Dataset split:\n",
            "Training set: 780994 samples\n",
            "Validation set: 167356 samples\n",
            "Test set: 167356 samples\n",
            "Training set time range: 2009-02-27 to 2021-01-29\n",
            "Validation set time range: 2021-01-29 to 2023-02-28\n",
            "Test set time range: 2023-02-28 to 2024-12-31\n",
            "Training set unique stocks: 10353\n",
            "Validation set unique stocks: 8128\n",
            "Test set unique stocks: 8664\n",
            "\n",
            "Number of classes: 2\n",
            "Class distribution: [516673 599033]\n",
            "\n",
            "Class weights for imbalanced data: {np.int64(0): np.float64(1.1160405264436475), np.int64(1): np.float64(0.9058174572429999)}\n",
            "\n",
            "Model architecture:\n"
          ]
        },
        {
          "output_type": "display_data",
          "data": {
            "text/plain": [
              "\u001b[1mModel: \"sequential_3\"\u001b[0m\n"
            ],
            "text/html": [
              "<pre style=\"white-space:pre;overflow-x:auto;line-height:normal;font-family:Menlo,'DejaVu Sans Mono',consolas,'Courier New',monospace\"><span style=\"font-weight: bold\">Model: \"sequential_3\"</span>\n",
              "</pre>\n"
            ]
          },
          "metadata": {}
        },
        {
          "output_type": "display_data",
          "data": {
            "text/plain": [
              "┏━━━━━━━━━━━━━━━━━━━━━━━━━━━━━━━━━┳━━━━━━━━━━━━━━━━━━━━━━━━┳━━━━━━━━━━━━━━━┓\n",
              "┃\u001b[1m \u001b[0m\u001b[1mLayer (type)                   \u001b[0m\u001b[1m \u001b[0m┃\u001b[1m \u001b[0m\u001b[1mOutput Shape          \u001b[0m\u001b[1m \u001b[0m┃\u001b[1m \u001b[0m\u001b[1m      Param #\u001b[0m\u001b[1m \u001b[0m┃\n",
              "┡━━━━━━━━━━━━━━━━━━━━━━━━━━━━━━━━━╇━━━━━━━━━━━━━━━━━━━━━━━━╇━━━━━━━━━━━━━━━┩\n",
              "│ conv1d_6 (\u001b[38;5;33mConv1D\u001b[0m)               │ (\u001b[38;5;45mNone\u001b[0m, \u001b[38;5;34m12\u001b[0m, \u001b[38;5;34m16\u001b[0m)         │         \u001b[38;5;34m1,312\u001b[0m │\n",
              "├─────────────────────────────────┼────────────────────────┼───────────────┤\n",
              "│ dropout_10 (\u001b[38;5;33mDropout\u001b[0m)            │ (\u001b[38;5;45mNone\u001b[0m, \u001b[38;5;34m12\u001b[0m, \u001b[38;5;34m16\u001b[0m)         │             \u001b[38;5;34m0\u001b[0m │\n",
              "├─────────────────────────────────┼────────────────────────┼───────────────┤\n",
              "│ lstm_4 (\u001b[38;5;33mLSTM\u001b[0m)                   │ (\u001b[38;5;45mNone\u001b[0m, \u001b[38;5;34m16\u001b[0m)             │         \u001b[38;5;34m2,112\u001b[0m │\n",
              "├─────────────────────────────────┼────────────────────────┼───────────────┤\n",
              "│ dense_7 (\u001b[38;5;33mDense\u001b[0m)                 │ (\u001b[38;5;45mNone\u001b[0m, \u001b[38;5;34m8\u001b[0m)              │           \u001b[38;5;34m136\u001b[0m │\n",
              "├─────────────────────────────────┼────────────────────────┼───────────────┤\n",
              "│ dropout_11 (\u001b[38;5;33mDropout\u001b[0m)            │ (\u001b[38;5;45mNone\u001b[0m, \u001b[38;5;34m8\u001b[0m)              │             \u001b[38;5;34m0\u001b[0m │\n",
              "├─────────────────────────────────┼────────────────────────┼───────────────┤\n",
              "│ dense_8 (\u001b[38;5;33mDense\u001b[0m)                 │ (\u001b[38;5;45mNone\u001b[0m, \u001b[38;5;34m1\u001b[0m)              │             \u001b[38;5;34m9\u001b[0m │\n",
              "└─────────────────────────────────┴────────────────────────┴───────────────┘\n"
            ],
            "text/html": [
              "<pre style=\"white-space:pre;overflow-x:auto;line-height:normal;font-family:Menlo,'DejaVu Sans Mono',consolas,'Courier New',monospace\">┏━━━━━━━━━━━━━━━━━━━━━━━━━━━━━━━━━┳━━━━━━━━━━━━━━━━━━━━━━━━┳━━━━━━━━━━━━━━━┓\n",
              "┃<span style=\"font-weight: bold\"> Layer (type)                    </span>┃<span style=\"font-weight: bold\"> Output Shape           </span>┃<span style=\"font-weight: bold\">       Param # </span>┃\n",
              "┡━━━━━━━━━━━━━━━━━━━━━━━━━━━━━━━━━╇━━━━━━━━━━━━━━━━━━━━━━━━╇━━━━━━━━━━━━━━━┩\n",
              "│ conv1d_6 (<span style=\"color: #0087ff; text-decoration-color: #0087ff\">Conv1D</span>)               │ (<span style=\"color: #00d7ff; text-decoration-color: #00d7ff\">None</span>, <span style=\"color: #00af00; text-decoration-color: #00af00\">12</span>, <span style=\"color: #00af00; text-decoration-color: #00af00\">16</span>)         │         <span style=\"color: #00af00; text-decoration-color: #00af00\">1,312</span> │\n",
              "├─────────────────────────────────┼────────────────────────┼───────────────┤\n",
              "│ dropout_10 (<span style=\"color: #0087ff; text-decoration-color: #0087ff\">Dropout</span>)            │ (<span style=\"color: #00d7ff; text-decoration-color: #00d7ff\">None</span>, <span style=\"color: #00af00; text-decoration-color: #00af00\">12</span>, <span style=\"color: #00af00; text-decoration-color: #00af00\">16</span>)         │             <span style=\"color: #00af00; text-decoration-color: #00af00\">0</span> │\n",
              "├─────────────────────────────────┼────────────────────────┼───────────────┤\n",
              "│ lstm_4 (<span style=\"color: #0087ff; text-decoration-color: #0087ff\">LSTM</span>)                   │ (<span style=\"color: #00d7ff; text-decoration-color: #00d7ff\">None</span>, <span style=\"color: #00af00; text-decoration-color: #00af00\">16</span>)             │         <span style=\"color: #00af00; text-decoration-color: #00af00\">2,112</span> │\n",
              "├─────────────────────────────────┼────────────────────────┼───────────────┤\n",
              "│ dense_7 (<span style=\"color: #0087ff; text-decoration-color: #0087ff\">Dense</span>)                 │ (<span style=\"color: #00d7ff; text-decoration-color: #00d7ff\">None</span>, <span style=\"color: #00af00; text-decoration-color: #00af00\">8</span>)              │           <span style=\"color: #00af00; text-decoration-color: #00af00\">136</span> │\n",
              "├─────────────────────────────────┼────────────────────────┼───────────────┤\n",
              "│ dropout_11 (<span style=\"color: #0087ff; text-decoration-color: #0087ff\">Dropout</span>)            │ (<span style=\"color: #00d7ff; text-decoration-color: #00d7ff\">None</span>, <span style=\"color: #00af00; text-decoration-color: #00af00\">8</span>)              │             <span style=\"color: #00af00; text-decoration-color: #00af00\">0</span> │\n",
              "├─────────────────────────────────┼────────────────────────┼───────────────┤\n",
              "│ dense_8 (<span style=\"color: #0087ff; text-decoration-color: #0087ff\">Dense</span>)                 │ (<span style=\"color: #00d7ff; text-decoration-color: #00d7ff\">None</span>, <span style=\"color: #00af00; text-decoration-color: #00af00\">1</span>)              │             <span style=\"color: #00af00; text-decoration-color: #00af00\">9</span> │\n",
              "└─────────────────────────────────┴────────────────────────┴───────────────┘\n",
              "</pre>\n"
            ]
          },
          "metadata": {}
        },
        {
          "output_type": "display_data",
          "data": {
            "text/plain": [
              "\u001b[1m Total params: \u001b[0m\u001b[38;5;34m3,569\u001b[0m (13.94 KB)\n"
            ],
            "text/html": [
              "<pre style=\"white-space:pre;overflow-x:auto;line-height:normal;font-family:Menlo,'DejaVu Sans Mono',consolas,'Courier New',monospace\"><span style=\"font-weight: bold\"> Total params: </span><span style=\"color: #00af00; text-decoration-color: #00af00\">3,569</span> (13.94 KB)\n",
              "</pre>\n"
            ]
          },
          "metadata": {}
        },
        {
          "output_type": "display_data",
          "data": {
            "text/plain": [
              "\u001b[1m Trainable params: \u001b[0m\u001b[38;5;34m3,569\u001b[0m (13.94 KB)\n"
            ],
            "text/html": [
              "<pre style=\"white-space:pre;overflow-x:auto;line-height:normal;font-family:Menlo,'DejaVu Sans Mono',consolas,'Courier New',monospace\"><span style=\"font-weight: bold\"> Trainable params: </span><span style=\"color: #00af00; text-decoration-color: #00af00\">3,569</span> (13.94 KB)\n",
              "</pre>\n"
            ]
          },
          "metadata": {}
        },
        {
          "output_type": "display_data",
          "data": {
            "text/plain": [
              "\u001b[1m Non-trainable params: \u001b[0m\u001b[38;5;34m0\u001b[0m (0.00 B)\n"
            ],
            "text/html": [
              "<pre style=\"white-space:pre;overflow-x:auto;line-height:normal;font-family:Menlo,'DejaVu Sans Mono',consolas,'Courier New',monospace\"><span style=\"font-weight: bold\"> Non-trainable params: </span><span style=\"color: #00af00; text-decoration-color: #00af00\">0</span> (0.00 B)\n",
              "</pre>\n"
            ]
          },
          "metadata": {}
        },
        {
          "output_type": "stream",
          "name": "stdout",
          "text": [
            "\n",
            "Start training...\n",
            "Epoch 1/50\n",
            "\u001b[1m3051/3051\u001b[0m \u001b[32m━━━━━━━━━━━━━━━━━━━━\u001b[0m\u001b[37m\u001b[0m \u001b[1m106s\u001b[0m 33ms/step - accuracy: 0.5792 - loss: 0.6712 - val_accuracy: 0.5747 - val_loss: 0.7159 - learning_rate: 0.0010\n",
            "Epoch 2/50\n",
            "\u001b[1m3051/3051\u001b[0m \u001b[32m━━━━━━━━━━━━━━━━━━━━\u001b[0m\u001b[37m\u001b[0m \u001b[1m102s\u001b[0m 33ms/step - accuracy: 0.6418 - loss: 0.6311 - val_accuracy: 0.5652 - val_loss: 0.7002 - learning_rate: 0.0010\n",
            "Epoch 3/50\n",
            "\u001b[1m3051/3051\u001b[0m \u001b[32m━━━━━━━━━━━━━━━━━━━━\u001b[0m\u001b[37m\u001b[0m \u001b[1m102s\u001b[0m 33ms/step - accuracy: 0.6556 - loss: 0.6230 - val_accuracy: 0.5244 - val_loss: 0.6939 - learning_rate: 0.0010\n",
            "Epoch 4/50\n",
            "\u001b[1m3051/3051\u001b[0m \u001b[32m━━━━━━━━━━━━━━━━━━━━\u001b[0m\u001b[37m\u001b[0m \u001b[1m101s\u001b[0m 33ms/step - accuracy: 0.6614 - loss: 0.6189 - val_accuracy: 0.5075 - val_loss: 0.6929 - learning_rate: 0.0010\n",
            "Epoch 5/50\n",
            "\u001b[1m3051/3051\u001b[0m \u001b[32m━━━━━━━━━━━━━━━━━━━━\u001b[0m\u001b[37m\u001b[0m \u001b[1m102s\u001b[0m 33ms/step - accuracy: 0.6658 - loss: 0.6160 - val_accuracy: 0.4943 - val_loss: 0.6978 - learning_rate: 0.0010\n",
            "Epoch 6/50\n",
            "\u001b[1m3051/3051\u001b[0m \u001b[32m━━━━━━━━━━━━━━━━━━━━\u001b[0m\u001b[37m\u001b[0m \u001b[1m102s\u001b[0m 33ms/step - accuracy: 0.6652 - loss: 0.6158 - val_accuracy: 0.4977 - val_loss: 0.6927 - learning_rate: 0.0010\n",
            "Epoch 7/50\n",
            "\u001b[1m3051/3051\u001b[0m \u001b[32m━━━━━━━━━━━━━━━━━━━━\u001b[0m\u001b[37m\u001b[0m \u001b[1m102s\u001b[0m 33ms/step - accuracy: 0.6677 - loss: 0.6139 - val_accuracy: 0.4903 - val_loss: 0.6879 - learning_rate: 0.0010\n",
            "Epoch 8/50\n",
            "\u001b[1m3051/3051\u001b[0m \u001b[32m━━━━━━━━━━━━━━━━━━━━\u001b[0m\u001b[37m\u001b[0m \u001b[1m102s\u001b[0m 33ms/step - accuracy: 0.6695 - loss: 0.6111 - val_accuracy: 0.5023 - val_loss: 0.6849 - learning_rate: 0.0010\n",
            "Epoch 9/50\n",
            "\u001b[1m3051/3051\u001b[0m \u001b[32m━━━━━━━━━━━━━━━━━━━━\u001b[0m\u001b[37m\u001b[0m \u001b[1m102s\u001b[0m 34ms/step - accuracy: 0.6689 - loss: 0.6114 - val_accuracy: 0.5232 - val_loss: 0.6894 - learning_rate: 0.0010\n",
            "Epoch 10/50\n",
            "\u001b[1m3051/3051\u001b[0m \u001b[32m━━━━━━━━━━━━━━━━━━━━\u001b[0m\u001b[37m\u001b[0m \u001b[1m102s\u001b[0m 33ms/step - accuracy: 0.6705 - loss: 0.6105 - val_accuracy: 0.4981 - val_loss: 0.6896 - learning_rate: 0.0010\n",
            "Epoch 11/50\n",
            "\u001b[1m3051/3051\u001b[0m \u001b[32m━━━━━━━━━━━━━━━━━━━━\u001b[0m\u001b[37m\u001b[0m \u001b[1m101s\u001b[0m 33ms/step - accuracy: 0.6697 - loss: 0.6100 - val_accuracy: 0.5208 - val_loss: 0.6933 - learning_rate: 0.0010\n",
            "Epoch 12/50\n",
            "\u001b[1m3051/3051\u001b[0m \u001b[32m━━━━━━━━━━━━━━━━━━━━\u001b[0m\u001b[37m\u001b[0m \u001b[1m103s\u001b[0m 34ms/step - accuracy: 0.6705 - loss: 0.6083 - val_accuracy: 0.5218 - val_loss: 0.6875 - learning_rate: 0.0010\n",
            "Epoch 13/50\n",
            "\u001b[1m3051/3051\u001b[0m \u001b[32m━━━━━━━━━━━━━━━━━━━━\u001b[0m\u001b[37m\u001b[0m \u001b[1m101s\u001b[0m 33ms/step - accuracy: 0.6711 - loss: 0.6083 - val_accuracy: 0.5202 - val_loss: 0.6856 - learning_rate: 0.0010\n",
            "Epoch 14/50\n",
            "\u001b[1m3051/3051\u001b[0m \u001b[32m━━━━━━━━━━━━━━━━━━━━\u001b[0m\u001b[37m\u001b[0m \u001b[1m103s\u001b[0m 34ms/step - accuracy: 0.6720 - loss: 0.6073 - val_accuracy: 0.5091 - val_loss: 0.6883 - learning_rate: 5.0000e-04\n",
            "Epoch 15/50\n",
            "\u001b[1m3051/3051\u001b[0m \u001b[32m━━━━━━━━━━━━━━━━━━━━\u001b[0m\u001b[37m\u001b[0m \u001b[1m103s\u001b[0m 34ms/step - accuracy: 0.6726 - loss: 0.6064 - val_accuracy: 0.5252 - val_loss: 0.6881 - learning_rate: 5.0000e-04\n",
            "Epoch 16/50\n",
            "\u001b[1m3051/3051\u001b[0m \u001b[32m━━━━━━━━━━━━━━━━━━━━\u001b[0m\u001b[37m\u001b[0m \u001b[1m102s\u001b[0m 33ms/step - accuracy: 0.6723 - loss: 0.6066 - val_accuracy: 0.5071 - val_loss: 0.6907 - learning_rate: 5.0000e-04\n",
            "Epoch 17/50\n",
            "\u001b[1m3051/3051\u001b[0m \u001b[32m━━━━━━━━━━━━━━━━━━━━\u001b[0m\u001b[37m\u001b[0m \u001b[1m101s\u001b[0m 33ms/step - accuracy: 0.6727 - loss: 0.6063 - val_accuracy: 0.5138 - val_loss: 0.6900 - learning_rate: 5.0000e-04\n",
            "Epoch 18/50\n",
            "\u001b[1m3051/3051\u001b[0m \u001b[32m━━━━━━━━━━━━━━━━━━━━\u001b[0m\u001b[37m\u001b[0m \u001b[1m103s\u001b[0m 34ms/step - accuracy: 0.6725 - loss: 0.6061 - val_accuracy: 0.5093 - val_loss: 0.6861 - learning_rate: 5.0000e-04\n",
            "\u001b[1m5230/5230\u001b[0m \u001b[32m━━━━━━━━━━━━━━━━━━━━\u001b[0m\u001b[37m\u001b[0m \u001b[1m42s\u001b[0m 8ms/step\n",
            "\n",
            "Test accuracy: 0.5741\n",
            "\n",
            "Classification report:\n",
            "              precision    recall  f1-score   support\n",
            "\n",
            "           0       0.57      0.40      0.47     79281\n",
            "           1       0.57      0.73      0.64     88075\n",
            "\n",
            "    accuracy                           0.57    167356\n",
            "   macro avg       0.57      0.57      0.56    167356\n",
            "weighted avg       0.57      0.57      0.56    167356\n",
            "\n",
            "\n",
            "Confusion matrix:\n",
            "[[31393 47888]\n",
            " [23397 64678]]\n",
            "\n",
            "Training completed!\n"
          ]
        }
      ]
    },
    {
      "cell_type": "code",
      "source": [
        "import matplotlib.pyplot as plt\n",
        "\n",
        "def plot_training_history(history):\n",
        "\n",
        "    fig, axes = plt.subplots(2, 2, figsize=(12, 8))\n",
        "\n",
        "    if \"auc\" in history.history:\n",
        "      axes[0,0].plot(history.history['auc'], label='Train AUC')\n",
        "      axes[0,0].plot(history.history['val_auc'], label='Val AUC')\n",
        "      axes[0,0].set_title('Model AUC')\n",
        "      axes[0,0].legend()\n",
        "\n",
        "    axes[0,1].plot(history.history['loss'], label='Train Loss')\n",
        "    axes[0,1].plot(history.history['val_loss'], label='Val Loss')\n",
        "    axes[0,1].set_title('Model Loss')\n",
        "    axes[0,1].legend()\n",
        "\n",
        "    axes[1,0].plot(history.history['accuracy'], label='Train Acc')\n",
        "    axes[1,0].plot(history.history['val_accuracy'], label='Val Acc')\n",
        "    axes[1,0].set_title('Model Accuracy')\n",
        "    axes[1,0].legend()\n",
        "\n",
        "    if \"precision\" in history.history:\n",
        "      axes[1,1].plot(history.history['precision'], label='Train Precision')\n",
        "      axes[1,1].plot(history.history['val_precision'], label='Val Precision')\n",
        "      axes[1,1].set_title('Model Precision')\n",
        "      axes[1,1].legend()\n",
        "\n",
        "    if 'lr' in history.history:\n",
        "        axes[1,1].plot(history.history['lr'])\n",
        "        axes[1,1].set_title('Learning Rate')\n",
        "        axes[1,1].set_yscale('log')\n",
        "\n",
        "    plt.tight_layout()\n",
        "    plt.show()\n",
        "    plt.savefig(\"DNN.jpg\")\n",
        "\n",
        "plot_training_history(history)"
      ],
      "metadata": {
        "colab": {
          "base_uri": "https://localhost:8080/",
          "height": 825
        },
        "id": "XBfZmzIn6n_h",
        "outputId": "76efe21f-b20e-41cc-9f53-401f9c8e2e6b"
      },
      "execution_count": 20,
      "outputs": [
        {
          "output_type": "display_data",
          "data": {
            "text/plain": [
              "<Figure size 1200x800 with 4 Axes>"
            ],
            "image/png": "[encoded data removed]"
          },
          "metadata": {}
        },
        {
          "output_type": "display_data",
          "data": {
            "text/plain": [
              "<Figure size 640x480 with 0 Axes>"
            ]
          },
          "metadata": {}
        }
      ]
    }
  ],
  "metadata": {
    "accelerator": "GPU",
    "colab": {
      "gpuType": "T4",
      "machine_shape": "hm",
      "provenance": []
    },
    "kernelspec": {
      "display_name": "Python 3",
      "name": "python3"
    },
    "language_info": {
      "name": "python"
    }
  },
  "nbformat": 4,
  "nbformat_minor": 0
}