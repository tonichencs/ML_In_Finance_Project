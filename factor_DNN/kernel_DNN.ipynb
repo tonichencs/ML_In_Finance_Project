{
  "nbformat": 4,
  "nbformat_minor": 0,
  "metadata": {
    "colab": {
      "provenance": [],
      "machine_shape": "hm",
      "gpuType": "L4"
    },
    "kernelspec": {
      "name": "python3",
      "display_name": "Python 3"
    },
    "language_info": {
      "name": "python"
    },
    "accelerator": "GPU"
  },
  "cells": [
    {
      "cell_type": "code",
      "execution_count": null,
      "metadata": {
        "id": "E28m4rywtkQr"
      },
      "outputs": [],
      "source": [
        "import numpy as np\n",
        "import pandas as pd\n",
        "from google.colab import drive\n",
        "\n",
        "from sklearn.metrics import accuracy_score, classification_report, confusion_matrix, roc_auc_score\n",
        "from sklearn.metrics import (\n",
        "    accuracy_score, classification_report, confusion_matrix,\n",
        "    roc_auc_score, roc_curve, precision_recall_curve\n",
        ")\n",
        "from sklearn.decomposition import KernelPCA\n",
        "\n",
        "import tensorflow as tf\n",
        "from tensorflow import keras\n",
        "from tensorflow.keras import layers, models, callbacks\n",
        "from tensorflow.keras.optimizers import Adam, RMSprop\n",
        "from tensorflow.keras.losses import BinaryCrossentropy\n",
        "from tensorflow.keras.metrics import AUC, Precision, Recall\n",
        "from sklearn.preprocessing import StandardScaler, MinMaxScaler"
      ]
    },
    {
      "cell_type": "code",
      "source": [
        "import warnings\n",
        "warnings.filterwarnings('ignore')"
      ],
      "metadata": {
        "id": "Gr0NWj40uga0"
      },
      "execution_count": null,
      "outputs": []
    },
    {
      "cell_type": "code",
      "source": [
        "drive.mount('/content/drive')"
      ],
      "metadata": {
        "colab": {
          "base_uri": "https://localhost:8080/"
        },
        "id": "gfN25_d7unG0",
        "outputId": "320a4b97-6821-430b-cc9b-7ea5f89614e6"
      },
      "execution_count": null,
      "outputs": [
        {
          "output_type": "stream",
          "name": "stdout",
          "text": [
            "Mounted at /content/drive\n"
          ]
        }
      ]
    },
    {
      "cell_type": "code",
      "source": [
        "stock_data = pd.read_csv(\"/content/drive/MyDrive/final_data.csv\")\n",
        "stock_data  = stock_data [stock_data ['date'].between('2004-01-01', '2024-12-31')]"
      ],
      "metadata": {
        "id": "URjLedq2ursD"
      },
      "execution_count": null,
      "outputs": []
    },
    {
      "cell_type": "code",
      "source": [
        "id_col = [\"PERMNO\", 'CUSIP', 'Ticker', 'SICCD','NAICS']\n",
        "time_col = ['MthCalDt']\n",
        "factor_col = ['mom_12','mom_6', 'vol_12', 'vol_6', 'rev_1', 'rvol_1', 'beta',\"rsi_6\", 'trend_strength']\n",
        "market_col = [ 'qmj_safety','seas_11_15na',\n",
        "              'ret_3_1', 'iskew_ff3_21d', 'rskew_21d', 'sti_gr1a','earnings_variability', 'nfna_gr1a',\n",
        "              'seas_16_20an', 'corr_1260d']\n",
        "fin_col = ['capxy', 'chechy', 'cshfdy', 'cshpry', 'dltry', 'dpcy',\n",
        "       'epspxy', 'oibdpy', 'txty']"
      ],
      "metadata": {
        "id": "d8cizgTKu_N5"
      },
      "execution_count": null,
      "outputs": []
    },
    {
      "cell_type": "code",
      "source": [
        "train_set = stock_data[stock_data[\"year\"] <= 2021]\n",
        "val_set = train_set[train_set[\"year\"]>2018]\n",
        "train_set = train_set[train_set[\"year\"]<=2018]\n",
        "test_set = stock_data[stock_data[\"year\"]>2021]"
      ],
      "metadata": {
        "id": "t2GO5EwNwITx"
      },
      "execution_count": null,
      "outputs": []
    },
    {
      "cell_type": "code",
      "source": [
        "ml_col = factor_col+fin_col+market_col+[\"quarter\", \"naics\", \"ind_1\"]"
      ],
      "metadata": {
        "id": "15G92cIqwKGO"
      },
      "execution_count": null,
      "outputs": []
    },
    {
      "cell_type": "code",
      "source": [
        "X_train = train_set[ml_col].values\n",
        "y_train = train_set[\"pred_cat\"]\n",
        "X_val = val_set[ml_col].values\n",
        "y_val = val_set[\"pred_cat\"]\n",
        "X_test = test_set[ml_col].values\n",
        "y_test = test_set[\"pred_cat\"]"
      ],
      "metadata": {
        "id": "nvo6e19twSQo"
      },
      "execution_count": null,
      "outputs": []
    },
    {
      "cell_type": "code",
      "source": [
        "from sklearn.kernel_approximation import RBFSampler\n",
        "\n",
        "rbf_mapper = RBFSampler(gamma=1.0/X_train.shape[1], n_components=100, random_state=42)\n",
        "X_train_rbf = rbf_mapper.fit_transform(X_train)\n",
        "\n",
        "X_train_rbf = np.concatenate([X_train, X_train_rbf], axis=1)\n",
        "X_val_rbf = np.concatenate([X_val, rbf_mapper.transform(X_val)], axis=1)\n",
        "X_test_rbf = np.concatenate([X_test, rbf_mapper.transform(X_test)], axis=1)"
      ],
      "metadata": {
        "id": "SOrRHz7_wApg"
      },
      "execution_count": null,
      "outputs": []
    },
    {
      "cell_type": "code",
      "source": [
        "def create_dnn_model(input_dim, hidden_layers=[256, 128, 64], dropout_rate=0.3):\n",
        "\n",
        "    model = models.Sequential([\n",
        "        layers.Input(shape=(input_dim,)),\n",
        "        layers.BatchNormalization()\n",
        "    ])\n",
        "\n",
        "    for i, units in enumerate(hidden_layers):\n",
        "        model.add(layers.Dense(units, activation='relu'))\n",
        "        model.add(layers.BatchNormalization())\n",
        "        model.add(layers.Dropout(dropout_rate))\n",
        "\n",
        "\n",
        "    model.add(layers.Dense(1, activation='sigmoid'))\n",
        "\n",
        "    return model\n",
        "\n",
        "\n",
        "dnn_model = create_dnn_model(X_train_rbf.shape[1])\n",
        "\n",
        "dnn_model.compile(\n",
        "    optimizer=Adam(learning_rate=0.01),\n",
        "    loss=BinaryCrossentropy(),\n",
        "    metrics=['accuracy', AUC(name='auc'), Precision(name='precision'), Recall(name='recall')]\n",
        ")\n",
        "\n",
        "print(\"Model Structure:\")\n",
        "dnn_model.summary()\n",
        "\n",
        "print(\"Training\")\n",
        "dnn_callbacks = [\n",
        "    callbacks.EarlyStopping(patience=20, restore_best_weights=True),\n",
        "    callbacks.ReduceLROnPlateau(patience=10, factor=0.5),\n",
        "    callbacks.ModelCheckpoint('best_dnn_model.h5', save_best_only=True)\n",
        "]\n",
        "\n",
        "dnn_history = dnn_model.fit(\n",
        "    X_train_rbf, y_train,\n",
        "    validation_data=(X_val_rbf, y_val),\n",
        "    epochs=50,\n",
        "    batch_size=32,\n",
        "    callbacks=dnn_callbacks,\n",
        "    verbose=1\n",
        ")\n",
        "\n",
        "\n",
        "dnn_pred_proba = dnn_model.predict(X_test_rbf)\n",
        "dnn_pred = (dnn_pred_proba > 0.5).astype(int)\n",
        "dnn_accuracy = accuracy_score(y_test, dnn_pred)\n",
        "dnn_auc = roc_auc_score(y_test, dnn_pred_proba)\n",
        "\n",
        "print(f\"DNN - Accuracy: {dnn_accuracy:.4f}, AUC: {dnn_auc:.4f}\")\n",
        "print()\n"
      ],
      "metadata": {
        "colab": {
          "base_uri": "https://localhost:8080/",
          "height": 1000
        },
        "id": "OFLqRssBw3lm",
        "outputId": "bccd5aad-6856-4048-a420-3f8fd1c63bd9"
      },
      "execution_count": null,
      "outputs": [
        {
          "output_type": "stream",
          "name": "stdout",
          "text": [
            "Model Structure:\n"
          ]
        },
        {
          "output_type": "display_data",
          "data": {
            "text/plain": [
              "\u001b[1mModel: \"sequential\"\u001b[0m\n"
            ],
            "text/html": [
              "<pre style=\"white-space:pre;overflow-x:auto;line-height:normal;font-family:Menlo,'DejaVu Sans Mono',consolas,'Courier New',monospace\"><span style=\"font-weight: bold\">Model: \"sequential\"</span>\n",
              "</pre>\n"
            ]
          },
          "metadata": {}
        },
        {
          "output_type": "display_data",
          "data": {
            "text/plain": [
              "┏━━━━━━━━━━━━━━━━━━━━━━━━━━━━━━━━━━━━━━┳━━━━━━━━━━━━━━━━━━━━━━━━━━━━━┳━━━━━━━━━━━━━━━━━┓\n",
              "┃\u001b[1m \u001b[0m\u001b[1mLayer (type)                        \u001b[0m\u001b[1m \u001b[0m┃\u001b[1m \u001b[0m\u001b[1mOutput Shape               \u001b[0m\u001b[1m \u001b[0m┃\u001b[1m \u001b[0m\u001b[1m        Param #\u001b[0m\u001b[1m \u001b[0m┃\n",
              "┡━━━━━━━━━━━━━━━━━━━━━━━━━━━━━━━━━━━━━━╇━━━━━━━━━━━━━━━━━━━━━━━━━━━━━╇━━━━━━━━━━━━━━━━━┩\n",
              "│ batch_normalization                  │ (\u001b[38;5;45mNone\u001b[0m, \u001b[38;5;34m131\u001b[0m)                 │             \u001b[38;5;34m524\u001b[0m │\n",
              "│ (\u001b[38;5;33mBatchNormalization\u001b[0m)                 │                             │                 │\n",
              "├──────────────────────────────────────┼─────────────────────────────┼─────────────────┤\n",
              "│ dense (\u001b[38;5;33mDense\u001b[0m)                        │ (\u001b[38;5;45mNone\u001b[0m, \u001b[38;5;34m256\u001b[0m)                 │          \u001b[38;5;34m33,792\u001b[0m │\n",
              "├──────────────────────────────────────┼─────────────────────────────┼─────────────────┤\n",
              "│ batch_normalization_1                │ (\u001b[38;5;45mNone\u001b[0m, \u001b[38;5;34m256\u001b[0m)                 │           \u001b[38;5;34m1,024\u001b[0m │\n",
              "│ (\u001b[38;5;33mBatchNormalization\u001b[0m)                 │                             │                 │\n",
              "├──────────────────────────────────────┼─────────────────────────────┼─────────────────┤\n",
              "│ dropout (\u001b[38;5;33mDropout\u001b[0m)                    │ (\u001b[38;5;45mNone\u001b[0m, \u001b[38;5;34m256\u001b[0m)                 │               \u001b[38;5;34m0\u001b[0m │\n",
              "├──────────────────────────────────────┼─────────────────────────────┼─────────────────┤\n",
              "│ dense_1 (\u001b[38;5;33mDense\u001b[0m)                      │ (\u001b[38;5;45mNone\u001b[0m, \u001b[38;5;34m128\u001b[0m)                 │          \u001b[38;5;34m32,896\u001b[0m │\n",
              "├──────────────────────────────────────┼─────────────────────────────┼─────────────────┤\n",
              "│ batch_normalization_2                │ (\u001b[38;5;45mNone\u001b[0m, \u001b[38;5;34m128\u001b[0m)                 │             \u001b[38;5;34m512\u001b[0m │\n",
              "│ (\u001b[38;5;33mBatchNormalization\u001b[0m)                 │                             │                 │\n",
              "├──────────────────────────────────────┼─────────────────────────────┼─────────────────┤\n",
              "│ dropout_1 (\u001b[38;5;33mDropout\u001b[0m)                  │ (\u001b[38;5;45mNone\u001b[0m, \u001b[38;5;34m128\u001b[0m)                 │               \u001b[38;5;34m0\u001b[0m │\n",
              "├──────────────────────────────────────┼─────────────────────────────┼─────────────────┤\n",
              "│ dense_2 (\u001b[38;5;33mDense\u001b[0m)                      │ (\u001b[38;5;45mNone\u001b[0m, \u001b[38;5;34m64\u001b[0m)                  │           \u001b[38;5;34m8,256\u001b[0m │\n",
              "├──────────────────────────────────────┼─────────────────────────────┼─────────────────┤\n",
              "│ batch_normalization_3                │ (\u001b[38;5;45mNone\u001b[0m, \u001b[38;5;34m64\u001b[0m)                  │             \u001b[38;5;34m256\u001b[0m │\n",
              "│ (\u001b[38;5;33mBatchNormalization\u001b[0m)                 │                             │                 │\n",
              "├──────────────────────────────────────┼─────────────────────────────┼─────────────────┤\n",
              "│ dropout_2 (\u001b[38;5;33mDropout\u001b[0m)                  │ (\u001b[38;5;45mNone\u001b[0m, \u001b[38;5;34m64\u001b[0m)                  │               \u001b[38;5;34m0\u001b[0m │\n",
              "├──────────────────────────────────────┼─────────────────────────────┼─────────────────┤\n",
              "│ dense_3 (\u001b[38;5;33mDense\u001b[0m)                      │ (\u001b[38;5;45mNone\u001b[0m, \u001b[38;5;34m1\u001b[0m)                   │              \u001b[38;5;34m65\u001b[0m │\n",
              "└──────────────────────────────────────┴─────────────────────────────┴─────────────────┘\n"
            ],
            "text/html": [
              "<pre style=\"white-space:pre;overflow-x:auto;line-height:normal;font-family:Menlo,'DejaVu Sans Mono',consolas,'Courier New',monospace\">┏━━━━━━━━━━━━━━━━━━━━━━━━━━━━━━━━━━━━━━┳━━━━━━━━━━━━━━━━━━━━━━━━━━━━━┳━━━━━━━━━━━━━━━━━┓\n",
              "┃<span style=\"font-weight: bold\"> Layer (type)                         </span>┃<span style=\"font-weight: bold\"> Output Shape                </span>┃<span style=\"font-weight: bold\">         Param # </span>┃\n",
              "┡━━━━━━━━━━━━━━━━━━━━━━━━━━━━━━━━━━━━━━╇━━━━━━━━━━━━━━━━━━━━━━━━━━━━━╇━━━━━━━━━━━━━━━━━┩\n",
              "│ batch_normalization                  │ (<span style=\"color: #00d7ff; text-decoration-color: #00d7ff\">None</span>, <span style=\"color: #00af00; text-decoration-color: #00af00\">131</span>)                 │             <span style=\"color: #00af00; text-decoration-color: #00af00\">524</span> │\n",
              "│ (<span style=\"color: #0087ff; text-decoration-color: #0087ff\">BatchNormalization</span>)                 │                             │                 │\n",
              "├──────────────────────────────────────┼─────────────────────────────┼─────────────────┤\n",
              "│ dense (<span style=\"color: #0087ff; text-decoration-color: #0087ff\">Dense</span>)                        │ (<span style=\"color: #00d7ff; text-decoration-color: #00d7ff\">None</span>, <span style=\"color: #00af00; text-decoration-color: #00af00\">256</span>)                 │          <span style=\"color: #00af00; text-decoration-color: #00af00\">33,792</span> │\n",
              "├──────────────────────────────────────┼─────────────────────────────┼─────────────────┤\n",
              "│ batch_normalization_1                │ (<span style=\"color: #00d7ff; text-decoration-color: #00d7ff\">None</span>, <span style=\"color: #00af00; text-decoration-color: #00af00\">256</span>)                 │           <span style=\"color: #00af00; text-decoration-color: #00af00\">1,024</span> │\n",
              "│ (<span style=\"color: #0087ff; text-decoration-color: #0087ff\">BatchNormalization</span>)                 │                             │                 │\n",
              "├──────────────────────────────────────┼─────────────────────────────┼─────────────────┤\n",
              "│ dropout (<span style=\"color: #0087ff; text-decoration-color: #0087ff\">Dropout</span>)                    │ (<span style=\"color: #00d7ff; text-decoration-color: #00d7ff\">None</span>, <span style=\"color: #00af00; text-decoration-color: #00af00\">256</span>)                 │               <span style=\"color: #00af00; text-decoration-color: #00af00\">0</span> │\n",
              "├──────────────────────────────────────┼─────────────────────────────┼─────────────────┤\n",
              "│ dense_1 (<span style=\"color: #0087ff; text-decoration-color: #0087ff\">Dense</span>)                      │ (<span style=\"color: #00d7ff; text-decoration-color: #00d7ff\">None</span>, <span style=\"color: #00af00; text-decoration-color: #00af00\">128</span>)                 │          <span style=\"color: #00af00; text-decoration-color: #00af00\">32,896</span> │\n",
              "├──────────────────────────────────────┼─────────────────────────────┼─────────────────┤\n",
              "│ batch_normalization_2                │ (<span style=\"color: #00d7ff; text-decoration-color: #00d7ff\">None</span>, <span style=\"color: #00af00; text-decoration-color: #00af00\">128</span>)                 │             <span style=\"color: #00af00; text-decoration-color: #00af00\">512</span> │\n",
              "│ (<span style=\"color: #0087ff; text-decoration-color: #0087ff\">BatchNormalization</span>)                 │                             │                 │\n",
              "├──────────────────────────────────────┼─────────────────────────────┼─────────────────┤\n",
              "│ dropout_1 (<span style=\"color: #0087ff; text-decoration-color: #0087ff\">Dropout</span>)                  │ (<span style=\"color: #00d7ff; text-decoration-color: #00d7ff\">None</span>, <span style=\"color: #00af00; text-decoration-color: #00af00\">128</span>)                 │               <span style=\"color: #00af00; text-decoration-color: #00af00\">0</span> │\n",
              "├──────────────────────────────────────┼─────────────────────────────┼─────────────────┤\n",
              "│ dense_2 (<span style=\"color: #0087ff; text-decoration-color: #0087ff\">Dense</span>)                      │ (<span style=\"color: #00d7ff; text-decoration-color: #00d7ff\">None</span>, <span style=\"color: #00af00; text-decoration-color: #00af00\">64</span>)                  │           <span style=\"color: #00af00; text-decoration-color: #00af00\">8,256</span> │\n",
              "├──────────────────────────────────────┼─────────────────────────────┼─────────────────┤\n",
              "│ batch_normalization_3                │ (<span style=\"color: #00d7ff; text-decoration-color: #00d7ff\">None</span>, <span style=\"color: #00af00; text-decoration-color: #00af00\">64</span>)                  │             <span style=\"color: #00af00; text-decoration-color: #00af00\">256</span> │\n",
              "│ (<span style=\"color: #0087ff; text-decoration-color: #0087ff\">BatchNormalization</span>)                 │                             │                 │\n",
              "├──────────────────────────────────────┼─────────────────────────────┼─────────────────┤\n",
              "│ dropout_2 (<span style=\"color: #0087ff; text-decoration-color: #0087ff\">Dropout</span>)                  │ (<span style=\"color: #00d7ff; text-decoration-color: #00d7ff\">None</span>, <span style=\"color: #00af00; text-decoration-color: #00af00\">64</span>)                  │               <span style=\"color: #00af00; text-decoration-color: #00af00\">0</span> │\n",
              "├──────────────────────────────────────┼─────────────────────────────┼─────────────────┤\n",
              "│ dense_3 (<span style=\"color: #0087ff; text-decoration-color: #0087ff\">Dense</span>)                      │ (<span style=\"color: #00d7ff; text-decoration-color: #00d7ff\">None</span>, <span style=\"color: #00af00; text-decoration-color: #00af00\">1</span>)                   │              <span style=\"color: #00af00; text-decoration-color: #00af00\">65</span> │\n",
              "└──────────────────────────────────────┴─────────────────────────────┴─────────────────┘\n",
              "</pre>\n"
            ]
          },
          "metadata": {}
        },
        {
          "output_type": "display_data",
          "data": {
            "text/plain": [
              "\u001b[1m Total params: \u001b[0m\u001b[38;5;34m77,325\u001b[0m (302.05 KB)\n"
            ],
            "text/html": [
              "<pre style=\"white-space:pre;overflow-x:auto;line-height:normal;font-family:Menlo,'DejaVu Sans Mono',consolas,'Courier New',monospace\"><span style=\"font-weight: bold\"> Total params: </span><span style=\"color: #00af00; text-decoration-color: #00af00\">77,325</span> (302.05 KB)\n",
              "</pre>\n"
            ]
          },
          "metadata": {}
        },
        {
          "output_type": "display_data",
          "data": {
            "text/plain": [
              "\u001b[1m Trainable params: \u001b[0m\u001b[38;5;34m76,167\u001b[0m (297.53 KB)\n"
            ],
            "text/html": [
              "<pre style=\"white-space:pre;overflow-x:auto;line-height:normal;font-family:Menlo,'DejaVu Sans Mono',consolas,'Courier New',monospace\"><span style=\"font-weight: bold\"> Trainable params: </span><span style=\"color: #00af00; text-decoration-color: #00af00\">76,167</span> (297.53 KB)\n",
              "</pre>\n"
            ]
          },
          "metadata": {}
        },
        {
          "output_type": "display_data",
          "data": {
            "text/plain": [
              "\u001b[1m Non-trainable params: \u001b[0m\u001b[38;5;34m1,158\u001b[0m (4.52 KB)\n"
            ],
            "text/html": [
              "<pre style=\"white-space:pre;overflow-x:auto;line-height:normal;font-family:Menlo,'DejaVu Sans Mono',consolas,'Courier New',monospace\"><span style=\"font-weight: bold\"> Non-trainable params: </span><span style=\"color: #00af00; text-decoration-color: #00af00\">1,158</span> (4.52 KB)\n",
              "</pre>\n"
            ]
          },
          "metadata": {}
        },
        {
          "output_type": "stream",
          "name": "stdout",
          "text": [
            "\n",
            "训练DNN模型...\n",
            "Epoch 1/50\n",
            "\u001b[1m31103/31103\u001b[0m \u001b[32m━━━━━━━━━━━━━━━━━━━━\u001b[0m\u001b[37m\u001b[0m \u001b[1m0s\u001b[0m 3ms/step - accuracy: 0.6155 - auc: 0.6517 - loss: 0.6566 - precision: 0.6152 - recall: 0.7341"
          ]
        },
        {
          "output_type": "stream",
          "name": "stderr",
          "text": [
            "WARNING:absl:You are saving your model as an HDF5 file via `model.save()` or `keras.saving.save_model(model)`. This file format is considered legacy. We recommend using instead the native Keras format, e.g. `model.save('my_model.keras')` or `keras.saving.save_model(model, 'my_model.keras')`. \n"
          ]
        },
        {
          "output_type": "stream",
          "name": "stdout",
          "text": [
            "\b\b\b\b\b\b\b\b\b\b\b\b\b\b\b\b\b\b\b\b\b\b\b\b\b\b\b\b\b\b\b\b\b\b\b\b\b\b\b\b\b\b\b\b\b\b\b\b\b\b\b\b\b\b\b\b\b\b\b\b\b\b\b\b\b\b\b\b\b\b\b\b\b\b\b\b\b\b\b\b\b\b\b\b\b\b\b\b\b\b\b\b\b\b\b\b\b\b\b\b\b\b\b\b\b\b\b\b\b\b\b\b\b\b\b\b\b\b\b\b\b\b\b\b\b\b\b\b\b\r\u001b[1m31103/31103\u001b[0m \u001b[32m━━━━━━━━━━━━━━━━━━━━\u001b[0m\u001b[37m\u001b[0m \u001b[1m125s\u001b[0m 4ms/step - accuracy: 0.6155 - auc: 0.6517 - loss: 0.6566 - precision: 0.6152 - recall: 0.7341 - val_accuracy: 0.5544 - val_auc: 0.5558 - val_loss: 1.2232 - val_precision: 0.6239 - val_recall: 0.5789 - learning_rate: 0.0100\n",
            "Epoch 2/50\n",
            "\u001b[1m31102/31103\u001b[0m \u001b[32m━━━━━━━━━━━━━━━━━━━\u001b[0m\u001b[37m━\u001b[0m \u001b[1m0s\u001b[0m 3ms/step - accuracy: 0.6337 - auc: 0.6734 - loss: 0.6434 - precision: 0.6287 - recall: 0.7556"
          ]
        },
        {
          "output_type": "stream",
          "name": "stderr",
          "text": [
            "WARNING:absl:You are saving your model as an HDF5 file via `model.save()` or `keras.saving.save_model(model)`. This file format is considered legacy. We recommend using instead the native Keras format, e.g. `model.save('my_model.keras')` or `keras.saving.save_model(model, 'my_model.keras')`. \n"
          ]
        },
        {
          "output_type": "stream",
          "name": "stdout",
          "text": [
            "\b\b\b\b\b\b\b\b\b\b\b\b\b\b\b\b\b\b\b\b\b\b\b\b\b\b\b\b\b\b\b\b\b\b\b\b\b\b\b\b\b\b\b\b\b\b\b\b\b\b\b\b\b\b\b\b\b\b\b\b\b\b\b\b\b\b\b\b\b\b\b\b\b\b\b\b\b\b\b\b\b\b\b\b\b\b\b\b\b\b\b\b\b\b\b\b\b\b\b\b\b\b\b\b\b\b\b\b\b\b\b\b\b\b\b\b\b\b\b\b\b\b\b\b\b\b\b\b\b\r\u001b[1m31103/31103\u001b[0m \u001b[32m━━━━━━━━━━━━━━━━━━━━\u001b[0m\u001b[37m\u001b[0m \u001b[1m114s\u001b[0m 4ms/step - accuracy: 0.6337 - auc: 0.6734 - loss: 0.6434 - precision: 0.6287 - recall: 0.7556 - val_accuracy: 0.5992 - val_auc: 0.5929 - val_loss: 0.7776 - val_precision: 0.6318 - val_recall: 0.7364 - learning_rate: 0.0100\n",
            "Epoch 3/50\n",
            "\u001b[1m31095/31103\u001b[0m \u001b[32m━━━━━━━━━━━━━━━━━━━\u001b[0m\u001b[37m━\u001b[0m \u001b[1m0s\u001b[0m 3ms/step - accuracy: 0.6363 - auc: 0.6777 - loss: 0.6412 - precision: 0.6316 - recall: 0.7518"
          ]
        },
        {
          "output_type": "stream",
          "name": "stderr",
          "text": [
            "WARNING:absl:You are saving your model as an HDF5 file via `model.save()` or `keras.saving.save_model(model)`. This file format is considered legacy. We recommend using instead the native Keras format, e.g. `model.save('my_model.keras')` or `keras.saving.save_model(model, 'my_model.keras')`. \n"
          ]
        },
        {
          "output_type": "stream",
          "name": "stdout",
          "text": [
            "\b\b\b\b\b\b\b\b\b\b\b\b\b\b\b\b\b\b\b\b\b\b\b\b\b\b\b\b\b\b\b\b\b\b\b\b\b\b\b\b\b\b\b\b\b\b\b\b\b\b\b\b\b\b\b\b\b\b\b\b\b\b\b\b\b\b\b\b\b\b\b\b\b\b\b\b\b\b\b\b\b\b\b\b\b\b\b\b\b\b\b\b\b\b\b\b\b\b\b\b\b\b\b\b\b\b\b\b\b\b\b\b\b\b\b\b\b\b\b\b\b\b\b\b\b\b\b\b\b\r\u001b[1m31103/31103\u001b[0m \u001b[32m━━━━━━━━━━━━━━━━━━━━\u001b[0m\u001b[37m\u001b[0m \u001b[1m99s\u001b[0m 3ms/step - accuracy: 0.6363 - auc: 0.6777 - loss: 0.6412 - precision: 0.6316 - recall: 0.7518 - val_accuracy: 0.5733 - val_auc: 0.6072 - val_loss: 0.7275 - val_precision: 0.6426 - val_recall: 0.5913 - learning_rate: 0.0100\n",
            "Epoch 4/50\n",
            "\u001b[1m31103/31103\u001b[0m \u001b[32m━━━━━━━━━━━━━━━━━━━━\u001b[0m\u001b[37m\u001b[0m \u001b[1m100s\u001b[0m 3ms/step - accuracy: 0.6382 - auc: 0.6802 - loss: 0.6399 - precision: 0.6339 - recall: 0.7515 - val_accuracy: 0.5847 - val_auc: 0.5386 - val_loss: 2.0796 - val_precision: 0.6087 - val_recall: 0.7901 - learning_rate: 0.0100\n",
            "Epoch 5/50\n",
            "\u001b[1m31103/31103\u001b[0m \u001b[32m━━━━━━━━━━━━━━━━━━━━\u001b[0m\u001b[37m\u001b[0m \u001b[1m100s\u001b[0m 3ms/step - accuracy: 0.6408 - auc: 0.6829 - loss: 0.6381 - precision: 0.6357 - recall: 0.7581 - val_accuracy: 0.5936 - val_auc: 0.5810 - val_loss: 3.9223 - val_precision: 0.6341 - val_recall: 0.7036 - learning_rate: 0.0100\n",
            "Epoch 6/50\n",
            "\u001b[1m31086/31103\u001b[0m \u001b[32m━━━━━━━━━━━━━━━━━━━\u001b[0m\u001b[37m━\u001b[0m \u001b[1m0s\u001b[0m 3ms/step - accuracy: 0.6406 - auc: 0.6838 - loss: 0.6379 - precision: 0.6366 - recall: 0.7543"
          ]
        },
        {
          "output_type": "stream",
          "name": "stderr",
          "text": [
            "WARNING:absl:You are saving your model as an HDF5 file via `model.save()` or `keras.saving.save_model(model)`. This file format is considered legacy. We recommend using instead the native Keras format, e.g. `model.save('my_model.keras')` or `keras.saving.save_model(model, 'my_model.keras')`. \n"
          ]
        },
        {
          "output_type": "stream",
          "name": "stdout",
          "text": [
            "\b\b\b\b\b\b\b\b\b\b\b\b\b\b\b\b\b\b\b\b\b\b\b\b\b\b\b\b\b\b\b\b\b\b\b\b\b\b\b\b\b\b\b\b\b\b\b\b\b\b\b\b\b\b\b\b\b\b\b\b\b\b\b\b\b\b\b\b\b\b\b\b\b\b\b\b\b\b\b\b\b\b\b\b\b\b\b\b\b\b\b\b\b\b\b\b\b\b\b\b\b\b\b\b\b\b\b\b\b\b\b\b\b\b\b\b\b\b\b\b\b\b\b\b\b\b\b\b\b\r\u001b[1m31103/31103\u001b[0m \u001b[32m━━━━━━━━━━━━━━━━━━━━\u001b[0m\u001b[37m\u001b[0m \u001b[1m99s\u001b[0m 3ms/step - accuracy: 0.6406 - auc: 0.6838 - loss: 0.6379 - precision: 0.6366 - recall: 0.7543 - val_accuracy: 0.5756 - val_auc: 0.6145 - val_loss: 0.7165 - val_precision: 0.6599 - val_recall: 0.5499 - learning_rate: 0.0100\n",
            "Epoch 7/50\n",
            "\u001b[1m31086/31103\u001b[0m \u001b[32m━━━━━━━━━━━━━━━━━━━\u001b[0m\u001b[37m━\u001b[0m \u001b[1m0s\u001b[0m 3ms/step - accuracy: 0.6415 - auc: 0.6843 - loss: 0.6376 - precision: 0.6370 - recall: 0.7549"
          ]
        },
        {
          "output_type": "stream",
          "name": "stderr",
          "text": [
            "WARNING:absl:You are saving your model as an HDF5 file via `model.save()` or `keras.saving.save_model(model)`. This file format is considered legacy. We recommend using instead the native Keras format, e.g. `model.save('my_model.keras')` or `keras.saving.save_model(model, 'my_model.keras')`. \n"
          ]
        },
        {
          "output_type": "stream",
          "name": "stdout",
          "text": [
            "\b\b\b\b\b\b\b\b\b\b\b\b\b\b\b\b\b\b\b\b\b\b\b\b\b\b\b\b\b\b\b\b\b\b\b\b\b\b\b\b\b\b\b\b\b\b\b\b\b\b\b\b\b\b\b\b\b\b\b\b\b\b\b\b\b\b\b\b\b\b\b\b\b\b\b\b\b\b\b\b\b\b\b\b\b\b\b\b\b\b\b\b\b\b\b\b\b\b\b\b\b\b\b\b\b\b\b\b\b\b\b\b\b\b\b\b\b\b\b\b\b\b\b\b\b\b\b\b\b\r\u001b[1m31103/31103\u001b[0m \u001b[32m━━━━━━━━━━━━━━━━━━━━\u001b[0m\u001b[37m\u001b[0m \u001b[1m100s\u001b[0m 3ms/step - accuracy: 0.6415 - auc: 0.6843 - loss: 0.6376 - precision: 0.6370 - recall: 0.7549 - val_accuracy: 0.6063 - val_auc: 0.6094 - val_loss: 0.6820 - val_precision: 0.6155 - val_recall: 0.8513 - learning_rate: 0.0100\n",
            "Epoch 8/50\n",
            "\u001b[1m31103/31103\u001b[0m \u001b[32m━━━━━━━━━━━━━━━━━━━━\u001b[0m\u001b[37m\u001b[0m \u001b[1m100s\u001b[0m 3ms/step - accuracy: 0.6420 - auc: 0.6855 - loss: 0.6367 - precision: 0.6369 - recall: 0.7560 - val_accuracy: 0.5887 - val_auc: 0.5494 - val_loss: 1.4159 - val_precision: 0.6065 - val_recall: 0.8236 - learning_rate: 0.0100\n",
            "Epoch 9/50\n",
            "\u001b[1m31103/31103\u001b[0m \u001b[32m━━━━━━━━━━━━━━━━━━━━\u001b[0m\u001b[37m\u001b[0m \u001b[1m102s\u001b[0m 3ms/step - accuracy: 0.6425 - auc: 0.6867 - loss: 0.6359 - precision: 0.6378 - recall: 0.7561 - val_accuracy: 0.5904 - val_auc: 0.5901 - val_loss: 0.7617 - val_precision: 0.6367 - val_recall: 0.6803 - learning_rate: 0.0100\n",
            "Epoch 10/50\n",
            "\u001b[1m31103/31103\u001b[0m \u001b[32m━━━━━━━━━━━━━━━━━━━━\u001b[0m\u001b[37m\u001b[0m \u001b[1m101s\u001b[0m 3ms/step - accuracy: 0.6417 - auc: 0.6854 - loss: 0.6369 - precision: 0.6373 - recall: 0.7528 - val_accuracy: 0.5709 - val_auc: 0.5588 - val_loss: 271.5715 - val_precision: 0.6254 - val_recall: 0.6445 - learning_rate: 0.0100\n",
            "Epoch 11/50\n",
            "\u001b[1m31103/31103\u001b[0m \u001b[32m━━━━━━━━━━━━━━━━━━━━\u001b[0m\u001b[37m\u001b[0m \u001b[1m100s\u001b[0m 3ms/step - accuracy: 0.6423 - auc: 0.6859 - loss: 0.6363 - precision: 0.6379 - recall: 0.7548 - val_accuracy: 0.6082 - val_auc: 0.5764 - val_loss: 25.7636 - val_precision: 0.6295 - val_recall: 0.7846 - learning_rate: 0.0100\n",
            "Epoch 12/50\n",
            "\u001b[1m31103/31103\u001b[0m \u001b[32m━━━━━━━━━━━━━━━━━━━━\u001b[0m\u001b[37m\u001b[0m \u001b[1m100s\u001b[0m 3ms/step - accuracy: 0.6438 - auc: 0.6869 - loss: 0.6359 - precision: 0.6385 - recall: 0.7567 - val_accuracy: 0.5858 - val_auc: 0.5727 - val_loss: 31.2859 - val_precision: 0.6263 - val_recall: 0.7044 - learning_rate: 0.0100\n",
            "Epoch 13/50\n",
            "\u001b[1m31103/31103\u001b[0m \u001b[32m━━━━━━━━━━━━━━━━━━━━\u001b[0m\u001b[37m\u001b[0m \u001b[1m100s\u001b[0m 3ms/step - accuracy: 0.6435 - auc: 0.6878 - loss: 0.6355 - precision: 0.6393 - recall: 0.7543 - val_accuracy: 0.5807 - val_auc: 0.5568 - val_loss: 5.2526 - val_precision: 0.6135 - val_recall: 0.7444 - learning_rate: 0.0100\n",
            "Epoch 14/50\n",
            "\u001b[1m31103/31103\u001b[0m \u001b[32m━━━━━━━━━━━━━━━━━━━━\u001b[0m\u001b[37m\u001b[0m \u001b[1m102s\u001b[0m 3ms/step - accuracy: 0.6436 - auc: 0.6876 - loss: 0.6352 - precision: 0.6384 - recall: 0.7578 - val_accuracy: 0.6114 - val_auc: 0.6147 - val_loss: 0.8062 - val_precision: 0.6374 - val_recall: 0.7617 - learning_rate: 0.0100\n",
            "Epoch 15/50\n",
            "\u001b[1m31103/31103\u001b[0m \u001b[32m━━━━━━━━━━━━━━━━━━━━\u001b[0m\u001b[37m\u001b[0m \u001b[1m102s\u001b[0m 3ms/step - accuracy: 0.6445 - auc: 0.6891 - loss: 0.6344 - precision: 0.6395 - recall: 0.7569 - val_accuracy: 0.5770 - val_auc: 0.5659 - val_loss: 2.8546 - val_precision: 0.6259 - val_recall: 0.6684 - learning_rate: 0.0100\n",
            "Epoch 16/50\n",
            "\u001b[1m31103/31103\u001b[0m \u001b[32m━━━━━━━━━━━━━━━━━━━━\u001b[0m\u001b[37m\u001b[0m \u001b[1m103s\u001b[0m 3ms/step - accuracy: 0.6439 - auc: 0.6881 - loss: 0.6352 - precision: 0.6387 - recall: 0.7582 - val_accuracy: 0.6018 - val_auc: 0.5778 - val_loss: 0.7236 - val_precision: 0.6371 - val_recall: 0.7244 - learning_rate: 0.0100\n",
            "Epoch 17/50\n",
            "\u001b[1m31103/31103\u001b[0m \u001b[32m━━━━━━━━━━━━━━━━━━━━\u001b[0m\u001b[37m\u001b[0m \u001b[1m103s\u001b[0m 3ms/step - accuracy: 0.6437 - auc: 0.6882 - loss: 0.6350 - precision: 0.6386 - recall: 0.7557 - val_accuracy: 0.5447 - val_auc: 0.5606 - val_loss: 1.4097 - val_precision: 0.6127 - val_recall: 0.5795 - learning_rate: 0.0100\n",
            "Epoch 18/50\n",
            "\u001b[1m31103/31103\u001b[0m \u001b[32m━━━━━━━━━━━━━━━━━━━━\u001b[0m\u001b[37m\u001b[0m \u001b[1m111s\u001b[0m 4ms/step - accuracy: 0.6459 - auc: 0.6920 - loss: 0.6323 - precision: 0.6403 - recall: 0.7582 - val_accuracy: 0.6238 - val_auc: 0.6331 - val_loss: 0.6949 - val_precision: 0.6612 - val_recall: 0.7172 - learning_rate: 0.0050\n",
            "Epoch 19/50\n",
            "\u001b[1m31103/31103\u001b[0m \u001b[32m━━━━━━━━━━━━━━━━━━━━\u001b[0m\u001b[37m\u001b[0m \u001b[1m113s\u001b[0m 4ms/step - accuracy: 0.6461 - auc: 0.6925 - loss: 0.6318 - precision: 0.6406 - recall: 0.7600 - val_accuracy: 0.5915 - val_auc: 0.5703 - val_loss: 0.8363 - val_precision: 0.6272 - val_recall: 0.7246 - learning_rate: 0.0050\n",
            "Epoch 20/50\n",
            "\u001b[1m31103/31103\u001b[0m \u001b[32m━━━━━━━━━━━━━━━━━━━━\u001b[0m\u001b[37m\u001b[0m \u001b[1m125s\u001b[0m 4ms/step - accuracy: 0.6462 - auc: 0.6919 - loss: 0.6323 - precision: 0.6408 - recall: 0.7585 - val_accuracy: 0.5913 - val_auc: 0.5884 - val_loss: 0.6835 - val_precision: 0.6266 - val_recall: 0.7267 - learning_rate: 0.0050\n",
            "Epoch 21/50\n",
            "\u001b[1m31103/31103\u001b[0m \u001b[32m━━━━━━━━━━━━━━━━━━━━\u001b[0m\u001b[37m\u001b[0m \u001b[1m112s\u001b[0m 4ms/step - accuracy: 0.6454 - auc: 0.6917 - loss: 0.6323 - precision: 0.6402 - recall: 0.7586 - val_accuracy: 0.5938 - val_auc: 0.6037 - val_loss: 0.8054 - val_precision: 0.6454 - val_recall: 0.6616 - learning_rate: 0.0050\n",
            "Epoch 22/50\n",
            "\u001b[1m31098/31103\u001b[0m \u001b[32m━━━━━━━━━━━━━━━━━━━\u001b[0m\u001b[37m━\u001b[0m \u001b[1m0s\u001b[0m 3ms/step - accuracy: 0.6475 - auc: 0.6938 - loss: 0.6312 - precision: 0.6421 - recall: 0.7572"
          ]
        },
        {
          "output_type": "stream",
          "name": "stderr",
          "text": [
            "WARNING:absl:You are saving your model as an HDF5 file via `model.save()` or `keras.saving.save_model(model)`. This file format is considered legacy. We recommend using instead the native Keras format, e.g. `model.save('my_model.keras')` or `keras.saving.save_model(model, 'my_model.keras')`. \n"
          ]
        },
        {
          "output_type": "stream",
          "name": "stdout",
          "text": [
            "\b\b\b\b\b\b\b\b\b\b\b\b\b\b\b\b\b\b\b\b\b\b\b\b\b\b\b\b\b\b\b\b\b\b\b\b\b\b\b\b\b\b\b\b\b\b\b\b\b\b\b\b\b\b\b\b\b\b\b\b\b\b\b\b\b\b\b\b\b\b\b\b\b\b\b\b\b\b\b\b\b\b\b\b\b\b\b\b\b\b\b\b\b\b\b\b\b\b\b\b\b\b\b\b\b\b\b\b\b\b\b\b\b\b\b\b\b\b\b\b\b\b\b\b\b\b\b\b\b\r\u001b[1m31103/31103\u001b[0m \u001b[32m━━━━━━━━━━━━━━━━━━━━\u001b[0m\u001b[37m\u001b[0m \u001b[1m114s\u001b[0m 4ms/step - accuracy: 0.6475 - auc: 0.6938 - loss: 0.6312 - precision: 0.6421 - recall: 0.7572 - val_accuracy: 0.6191 - val_auc: 0.6231 - val_loss: 0.6788 - val_precision: 0.6466 - val_recall: 0.7537 - learning_rate: 0.0050\n",
            "Epoch 23/50\n",
            "\u001b[1m31103/31103\u001b[0m \u001b[32m━━━━━━━━━━━━━━━━━━━━\u001b[0m\u001b[37m\u001b[0m \u001b[1m122s\u001b[0m 4ms/step - accuracy: 0.6463 - auc: 0.6930 - loss: 0.6316 - precision: 0.6408 - recall: 0.7572 - val_accuracy: 0.6081 - val_auc: 0.6253 - val_loss: 0.7440 - val_precision: 0.6518 - val_recall: 0.6927 - learning_rate: 0.0050\n",
            "Epoch 24/50\n",
            "\u001b[1m31103/31103\u001b[0m \u001b[32m━━━━━━━━━━━━━━━━━━━━\u001b[0m\u001b[37m\u001b[0m \u001b[1m125s\u001b[0m 4ms/step - accuracy: 0.6467 - auc: 0.6930 - loss: 0.6315 - precision: 0.6414 - recall: 0.7585 - val_accuracy: 0.5639 - val_auc: 0.5588 - val_loss: 0.8152 - val_precision: 0.6102 - val_recall: 0.6815 - learning_rate: 0.0050\n",
            "Epoch 25/50\n",
            "\u001b[1m31103/31103\u001b[0m \u001b[32m━━━━━━━━━━━━━━━━━━━━\u001b[0m\u001b[37m\u001b[0m \u001b[1m123s\u001b[0m 4ms/step - accuracy: 0.6476 - auc: 0.6944 - loss: 0.6305 - precision: 0.6419 - recall: 0.7589 - val_accuracy: 0.5928 - val_auc: 0.6179 - val_loss: 0.7451 - val_precision: 0.6441 - val_recall: 0.6622 - learning_rate: 0.0050\n",
            "Epoch 26/50\n",
            "\u001b[1m31103/31103\u001b[0m \u001b[32m━━━━━━━━━━━━━━━━━━━━\u001b[0m\u001b[37m\u001b[0m \u001b[1m117s\u001b[0m 4ms/step - accuracy: 0.6471 - auc: 0.6931 - loss: 0.6318 - precision: 0.6422 - recall: 0.7555 - val_accuracy: 0.6189 - val_auc: 0.6023 - val_loss: 0.6936 - val_precision: 0.6356 - val_recall: 0.8001 - learning_rate: 0.0050\n",
            "Epoch 27/50\n",
            "\u001b[1m31094/31103\u001b[0m \u001b[32m━━━━━━━━━━━━━━━━━━━\u001b[0m\u001b[37m━\u001b[0m \u001b[1m0s\u001b[0m 3ms/step - accuracy: 0.6463 - auc: 0.6928 - loss: 0.6316 - precision: 0.6406 - recall: 0.7560"
          ]
        },
        {
          "output_type": "stream",
          "name": "stderr",
          "text": [
            "WARNING:absl:You are saving your model as an HDF5 file via `model.save()` or `keras.saving.save_model(model)`. This file format is considered legacy. We recommend using instead the native Keras format, e.g. `model.save('my_model.keras')` or `keras.saving.save_model(model, 'my_model.keras')`. \n"
          ]
        },
        {
          "output_type": "stream",
          "name": "stdout",
          "text": [
            "\b\b\b\b\b\b\b\b\b\b\b\b\b\b\b\b\b\b\b\b\b\b\b\b\b\b\b\b\b\b\b\b\b\b\b\b\b\b\b\b\b\b\b\b\b\b\b\b\b\b\b\b\b\b\b\b\b\b\b\b\b\b\b\b\b\b\b\b\b\b\b\b\b\b\b\b\b\b\b\b\b\b\b\b\b\b\b\b\b\b\b\b\b\b\b\b\b\b\b\b\b\b\b\b\b\b\b\b\b\b\b\b\b\b\b\b\b\b\b\b\b\b\b\b\b\b\b\b\b\r\u001b[1m31103/31103\u001b[0m \u001b[32m━━━━━━━━━━━━━━━━━━━━\u001b[0m\u001b[37m\u001b[0m \u001b[1m121s\u001b[0m 4ms/step - accuracy: 0.6463 - auc: 0.6928 - loss: 0.6316 - precision: 0.6406 - recall: 0.7560 - val_accuracy: 0.6124 - val_auc: 0.5913 - val_loss: 0.6726 - val_precision: 0.6349 - val_recall: 0.7770 - learning_rate: 0.0050\n",
            "Epoch 28/50\n",
            "\u001b[1m31103/31103\u001b[0m \u001b[32m━━━━━━━━━━━━━━━━━━━━\u001b[0m\u001b[37m\u001b[0m \u001b[1m121s\u001b[0m 4ms/step - accuracy: 0.6457 - auc: 0.6927 - loss: 0.6318 - precision: 0.6407 - recall: 0.7556 - val_accuracy: 0.6150 - val_auc: 0.6098 - val_loss: 0.7257 - val_precision: 0.6390 - val_recall: 0.7691 - learning_rate: 0.0050\n",
            "Epoch 29/50\n",
            "\u001b[1m31103/31103\u001b[0m \u001b[32m━━━━━━━━━━━━━━━━━━━━\u001b[0m\u001b[37m\u001b[0m \u001b[1m120s\u001b[0m 4ms/step - accuracy: 0.6467 - auc: 0.6934 - loss: 0.6313 - precision: 0.6419 - recall: 0.7564 - val_accuracy: 0.6140 - val_auc: 0.6006 - val_loss: 0.6879 - val_precision: 0.6387 - val_recall: 0.7664 - learning_rate: 0.0050\n",
            "Epoch 30/50\n",
            "\u001b[1m31103/31103\u001b[0m \u001b[32m━━━━━━━━━━━━━━━━━━━━\u001b[0m\u001b[37m\u001b[0m \u001b[1m119s\u001b[0m 4ms/step - accuracy: 0.6466 - auc: 0.6930 - loss: 0.6315 - precision: 0.6415 - recall: 0.7573 - val_accuracy: 0.6119 - val_auc: 0.6037 - val_loss: 1.1239 - val_precision: 0.6299 - val_recall: 0.7981 - learning_rate: 0.0050\n",
            "Epoch 31/50\n",
            "\u001b[1m31103/31103\u001b[0m \u001b[32m━━━━━━━━━━━━━━━━━━━━\u001b[0m\u001b[37m\u001b[0m \u001b[1m112s\u001b[0m 4ms/step - accuracy: 0.6476 - auc: 0.6941 - loss: 0.6306 - precision: 0.6422 - recall: 0.7610 - val_accuracy: 0.6074 - val_auc: 0.5905 - val_loss: 0.7168 - val_precision: 0.6316 - val_recall: 0.7713 - learning_rate: 0.0050\n",
            "Epoch 32/50\n",
            "\u001b[1m31103/31103\u001b[0m \u001b[32m━━━━━━━━━━━━━━━━━━━━\u001b[0m\u001b[37m\u001b[0m \u001b[1m101s\u001b[0m 3ms/step - accuracy: 0.6469 - auc: 0.6938 - loss: 0.6309 - precision: 0.6419 - recall: 0.7571 - val_accuracy: 0.6042 - val_auc: 0.5852 - val_loss: 0.6963 - val_precision: 0.6277 - val_recall: 0.7765 - learning_rate: 0.0050\n",
            "Epoch 33/50\n",
            "\u001b[1m31103/31103\u001b[0m \u001b[32m━━━━━━━━━━━━━━━━━━━━\u001b[0m\u001b[37m\u001b[0m \u001b[1m101s\u001b[0m 3ms/step - accuracy: 0.6464 - auc: 0.6928 - loss: 0.6317 - precision: 0.6415 - recall: 0.7571 - val_accuracy: 0.6054 - val_auc: 0.6065 - val_loss: 0.7060 - val_precision: 0.6468 - val_recall: 0.7003 - learning_rate: 0.0050\n",
            "Epoch 34/50\n",
            "\u001b[1m31103/31103\u001b[0m \u001b[32m━━━━━━━━━━━━━━━━━━━━\u001b[0m\u001b[37m\u001b[0m \u001b[1m102s\u001b[0m 3ms/step - accuracy: 0.6470 - auc: 0.6930 - loss: 0.6315 - precision: 0.6421 - recall: 0.7581 - val_accuracy: 0.6121 - val_auc: 0.6035 - val_loss: 0.7469 - val_precision: 0.6498 - val_recall: 0.7149 - learning_rate: 0.0050\n",
            "Epoch 35/50\n",
            "\u001b[1m31103/31103\u001b[0m \u001b[32m━━━━━━━━━━━━━━━━━━━━\u001b[0m\u001b[37m\u001b[0m \u001b[1m100s\u001b[0m 3ms/step - accuracy: 0.6465 - auc: 0.6931 - loss: 0.6315 - precision: 0.6416 - recall: 0.7569 - val_accuracy: 0.6087 - val_auc: 0.6128 - val_loss: 0.7553 - val_precision: 0.6265 - val_recall: 0.8015 - learning_rate: 0.0050\n",
            "Epoch 36/50\n",
            "\u001b[1m31103/31103\u001b[0m \u001b[32m━━━━━━━━━━━━━━━━━━━━\u001b[0m\u001b[37m\u001b[0m \u001b[1m101s\u001b[0m 3ms/step - accuracy: 0.6468 - auc: 0.6937 - loss: 0.6311 - precision: 0.6416 - recall: 0.7553 - val_accuracy: 0.6088 - val_auc: 0.5966 - val_loss: 0.8119 - val_precision: 0.6283 - val_recall: 0.7930 - learning_rate: 0.0050\n",
            "Epoch 37/50\n",
            "\u001b[1m31103/31103\u001b[0m \u001b[32m━━━━━━━━━━━━━━━━━━━━\u001b[0m\u001b[37m\u001b[0m \u001b[1m102s\u001b[0m 3ms/step - accuracy: 0.6471 - auc: 0.6941 - loss: 0.6307 - precision: 0.6417 - recall: 0.7589 - val_accuracy: 0.6082 - val_auc: 0.6164 - val_loss: 0.6747 - val_precision: 0.6485 - val_recall: 0.7047 - learning_rate: 0.0050\n",
            "Epoch 38/50\n",
            "\u001b[1m31103/31103\u001b[0m \u001b[32m━━━━━━━━━━━━━━━━━━━━\u001b[0m\u001b[37m\u001b[0m \u001b[1m101s\u001b[0m 3ms/step - accuracy: 0.6480 - auc: 0.6961 - loss: 0.6292 - precision: 0.6423 - recall: 0.7583 - val_accuracy: 0.6118 - val_auc: 0.6057 - val_loss: 0.7566 - val_precision: 0.6475 - val_recall: 0.7221 - learning_rate: 0.0025\n",
            "Epoch 39/50\n",
            "\u001b[1m31103/31103\u001b[0m \u001b[32m━━━━━━━━━━━━━━━━━━━━\u001b[0m\u001b[37m\u001b[0m \u001b[1m100s\u001b[0m 3ms/step - accuracy: 0.6486 - auc: 0.6965 - loss: 0.6290 - precision: 0.6428 - recall: 0.7595 - val_accuracy: 0.6104 - val_auc: 0.6023 - val_loss: 0.6894 - val_precision: 0.6470 - val_recall: 0.7192 - learning_rate: 0.0025\n",
            "Epoch 40/50\n",
            "\u001b[1m31103/31103\u001b[0m \u001b[32m━━━━━━━━━━━━━━━━━━━━\u001b[0m\u001b[37m\u001b[0m \u001b[1m101s\u001b[0m 3ms/step - accuracy: 0.6482 - auc: 0.6959 - loss: 0.6293 - precision: 0.6424 - recall: 0.7592 - val_accuracy: 0.6007 - val_auc: 0.5984 - val_loss: 0.6915 - val_precision: 0.6492 - val_recall: 0.6741 - learning_rate: 0.0025\n",
            "Epoch 41/50\n",
            "\u001b[1m31103/31103\u001b[0m \u001b[32m━━━━━━━━━━━━━━━━━━━━\u001b[0m\u001b[37m\u001b[0m \u001b[1m103s\u001b[0m 3ms/step - accuracy: 0.6473 - auc: 0.6955 - loss: 0.6296 - precision: 0.6423 - recall: 0.7574 - val_accuracy: 0.6088 - val_auc: 0.6029 - val_loss: 0.6818 - val_precision: 0.6430 - val_recall: 0.7281 - learning_rate: 0.0025\n",
            "Epoch 42/50\n",
            "\u001b[1m31103/31103\u001b[0m \u001b[32m━━━━━━━━━━━━━━━━━━━━\u001b[0m\u001b[37m\u001b[0m \u001b[1m103s\u001b[0m 3ms/step - accuracy: 0.6466 - auc: 0.6954 - loss: 0.6297 - precision: 0.6415 - recall: 0.7557 - val_accuracy: 0.6114 - val_auc: 0.6044 - val_loss: 0.6832 - val_precision: 0.6470 - val_recall: 0.7226 - learning_rate: 0.0025\n",
            "Epoch 43/50\n",
            "\u001b[1m31103/31103\u001b[0m \u001b[32m━━━━━━━━━━━━━━━━━━━━\u001b[0m\u001b[37m\u001b[0m \u001b[1m103s\u001b[0m 3ms/step - accuracy: 0.6488 - auc: 0.6957 - loss: 0.6295 - precision: 0.6433 - recall: 0.7585 - val_accuracy: 0.6102 - val_auc: 0.6057 - val_loss: 0.6873 - val_precision: 0.6471 - val_recall: 0.7174 - learning_rate: 0.0025\n",
            "Epoch 44/50\n",
            "\u001b[1m31103/31103\u001b[0m \u001b[32m━━━━━━━━━━━━━━━━━━━━\u001b[0m\u001b[37m\u001b[0m \u001b[1m102s\u001b[0m 3ms/step - accuracy: 0.6483 - auc: 0.6961 - loss: 0.6293 - precision: 0.6435 - recall: 0.7558 - val_accuracy: 0.6141 - val_auc: 0.6102 - val_loss: 0.6954 - val_precision: 0.6293 - val_recall: 0.8109 - learning_rate: 0.0025\n",
            "Epoch 45/50\n",
            "\u001b[1m31099/31103\u001b[0m \u001b[32m━━━━━━━━━━━━━━━━━━━\u001b[0m\u001b[37m━\u001b[0m \u001b[1m0s\u001b[0m 3ms/step - accuracy: 0.6481 - auc: 0.6962 - loss: 0.6292 - precision: 0.6424 - recall: 0.7597"
          ]
        },
        {
          "output_type": "stream",
          "name": "stderr",
          "text": [
            "WARNING:absl:You are saving your model as an HDF5 file via `model.save()` or `keras.saving.save_model(model)`. This file format is considered legacy. We recommend using instead the native Keras format, e.g. `model.save('my_model.keras')` or `keras.saving.save_model(model, 'my_model.keras')`. \n"
          ]
        },
        {
          "output_type": "stream",
          "name": "stdout",
          "text": [
            "\b\b\b\b\b\b\b\b\b\b\b\b\b\b\b\b\b\b\b\b\b\b\b\b\b\b\b\b\b\b\b\b\b\b\b\b\b\b\b\b\b\b\b\b\b\b\b\b\b\b\b\b\b\b\b\b\b\b\b\b\b\b\b\b\b\b\b\b\b\b\b\b\b\b\b\b\b\b\b\b\b\b\b\b\b\b\b\b\b\b\b\b\b\b\b\b\b\b\b\b\b\b\b\b\b\b\b\b\b\b\b\b\b\b\b\b\b\b\b\b\b\b\b\b\b\b\b\b\b\r\u001b[1m31103/31103\u001b[0m \u001b[32m━━━━━━━━━━━━━━━━━━━━\u001b[0m\u001b[37m\u001b[0m \u001b[1m103s\u001b[0m 3ms/step - accuracy: 0.6481 - auc: 0.6962 - loss: 0.6292 - precision: 0.6424 - recall: 0.7597 - val_accuracy: 0.6125 - val_auc: 0.6045 - val_loss: 0.6681 - val_precision: 0.6447 - val_recall: 0.7357 - learning_rate: 0.0025\n",
            "Epoch 46/50\n",
            "\u001b[1m31103/31103\u001b[0m \u001b[32m━━━━━━━━━━━━━━━━━━━━\u001b[0m\u001b[37m\u001b[0m \u001b[1m105s\u001b[0m 3ms/step - accuracy: 0.6481 - auc: 0.6958 - loss: 0.6294 - precision: 0.6428 - recall: 0.7579 - val_accuracy: 0.6126 - val_auc: 0.6022 - val_loss: 0.6719 - val_precision: 0.6446 - val_recall: 0.7364 - learning_rate: 0.0025\n",
            "Epoch 47/50\n",
            "\u001b[1m31103/31103\u001b[0m \u001b[32m━━━━━━━━━━━━━━━━━━━━\u001b[0m\u001b[37m\u001b[0m \u001b[1m105s\u001b[0m 3ms/step - accuracy: 0.6483 - auc: 0.6960 - loss: 0.6293 - precision: 0.6430 - recall: 0.7574 - val_accuracy: 0.6095 - val_auc: 0.5992 - val_loss: 0.6796 - val_precision: 0.6471 - val_recall: 0.7152 - learning_rate: 0.0025\n",
            "Epoch 48/50\n",
            "\u001b[1m31103/31103\u001b[0m \u001b[32m━━━━━━━━━━━━━━━━━━━━\u001b[0m\u001b[37m\u001b[0m \u001b[1m101s\u001b[0m 3ms/step - accuracy: 0.6496 - auc: 0.6971 - loss: 0.6286 - precision: 0.6443 - recall: 0.7591 - val_accuracy: 0.6133 - val_auc: 0.5879 - val_loss: 0.6790 - val_precision: 0.6370 - val_recall: 0.7709 - learning_rate: 0.0025\n",
            "Epoch 49/50\n",
            "\u001b[1m31103/31103\u001b[0m \u001b[32m━━━━━━━━━━━━━━━━━━━━\u001b[0m\u001b[37m\u001b[0m \u001b[1m101s\u001b[0m 3ms/step - accuracy: 0.6478 - auc: 0.6961 - loss: 0.6294 - precision: 0.6424 - recall: 0.7581 - val_accuracy: 0.6068 - val_auc: 0.6067 - val_loss: 0.6770 - val_precision: 0.6505 - val_recall: 0.6926 - learning_rate: 0.0025\n",
            "Epoch 50/50\n",
            "\u001b[1m31087/31103\u001b[0m \u001b[32m━━━━━━━━━━━━━━━━━━━\u001b[0m\u001b[37m━\u001b[0m \u001b[1m0s\u001b[0m 3ms/step - accuracy: 0.6489 - auc: 0.6969 - loss: 0.6287 - precision: 0.6440 - recall: 0.7566"
          ]
        },
        {
          "output_type": "stream",
          "name": "stderr",
          "text": [
            "WARNING:absl:You are saving your model as an HDF5 file via `model.save()` or `keras.saving.save_model(model)`. This file format is considered legacy. We recommend using instead the native Keras format, e.g. `model.save('my_model.keras')` or `keras.saving.save_model(model, 'my_model.keras')`. \n"
          ]
        },
        {
          "output_type": "stream",
          "name": "stdout",
          "text": [
            "\u001b[1m31103/31103\u001b[0m \u001b[32m━━━━━━━━━━━━━━━━━━━━\u001b[0m\u001b[37m\u001b[0m \u001b[1m105s\u001b[0m 3ms/step - accuracy: 0.6489 - auc: 0.6969 - loss: 0.6287 - precision: 0.6440 - recall: 0.7566 - val_accuracy: 0.6142 - val_auc: 0.6023 - val_loss: 0.6650 - val_precision: 0.6392 - val_recall: 0.7651 - learning_rate: 0.0025\n",
            "\u001b[1m8863/8863\u001b[0m \u001b[32m━━━━━━━━━━━━━━━━━━━━\u001b[0m\u001b[37m\u001b[0m \u001b[1m12s\u001b[0m 1ms/step\n",
            "DNN - Accuracy: 0.5434, AUC: 0.6358\n",
            "\n"
          ]
        }
      ]
    }
  ]
}