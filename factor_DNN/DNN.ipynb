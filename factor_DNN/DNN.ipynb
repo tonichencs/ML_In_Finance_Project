{
  "nbformat": 4,
  "nbformat_minor": 0,
  "metadata": {
    "colab": {
      "provenance": [],
      "machine_shape": "hm",
      "gpuType": "L4"
    },
    "kernelspec": {
      "name": "python3",
      "display_name": "Python 3"
    },
    "language_info": {
      "name": "python"
    },
    "accelerator": "GPU"
  },
  "cells": [
    {
      "cell_type": "code",
      "execution_count": null,
      "metadata": {
        "id": "Ev_04q4J-Mf0"
      },
      "outputs": [],
      "source": [
        "import numpy as np\n",
        "import pandas as pd\n",
        "from google.colab import drive\n",
        "\n",
        "from sklearn.metrics import accuracy_score, classification_report, confusion_matrix, roc_auc_score\n",
        "from sklearn.metrics import (\n",
        "    accuracy_score, classification_report, confusion_matrix,\n",
        "    roc_auc_score, roc_curve, precision_recall_curve\n",
        ")\n",
        "import tensorflow as tf\n",
        "from tensorflow import keras\n",
        "from tensorflow.keras import layers, models, callbacks\n",
        "from tensorflow.keras.optimizers import Adam, RMSprop\n",
        "from tensorflow.keras.losses import BinaryCrossentropy\n",
        "from tensorflow.keras.metrics import AUC, Precision, Recall\n",
        "from sklearn.preprocessing import StandardScaler, MinMaxScaler"
      ]
    },
    {
      "cell_type": "code",
      "source": [
        "import warnings\n",
        "warnings.filterwarnings('ignore')"
      ],
      "metadata": {
        "id": "gwM9An7--UHv"
      },
      "execution_count": null,
      "outputs": []
    },
    {
      "cell_type": "code",
      "source": [
        "drive.mount('/content/drive')"
      ],
      "metadata": {
        "colab": {
          "base_uri": "https://localhost:8080/"
        },
        "id": "xc78GwOy-WvH",
        "outputId": "824d3007-10c8-4730-fe72-279d55fab9d8"
      },
      "execution_count": null,
      "outputs": [
        {
          "output_type": "stream",
          "name": "stdout",
          "text": [
            "Mounted at /content/drive\n"
          ]
        }
      ]
    },
    {
      "cell_type": "code",
      "source": [
        "stock_data = pd.read_csv(\"/content/drive/MyDrive/final_data.csv\")\n",
        "stock_data  = stock_data [stock_data ['date'].between('2004-01-01', '2024-12-31')]"
      ],
      "metadata": {
        "id": "Uj4VwZwK-XJ1"
      },
      "execution_count": null,
      "outputs": []
    },
    {
      "cell_type": "code",
      "source": [
        "id_col = [\"PERMNO\", 'CUSIP', 'Ticker', 'SICCD','NAICS']\n",
        "time_col = ['MthCalDt']\n",
        "factor_col = ['mom_12','mom_6', 'vol_12', 'vol_6', 'rev_1', 'rvol_1', 'beta',\"rsi_6\", 'trend_strength']\n",
        "market_col = [ 'qmj_safety','seas_11_15na',\n",
        "              'ret_3_1', 'iskew_ff3_21d', 'rskew_21d', 'sti_gr1a','earnings_variability', 'nfna_gr1a',\n",
        "              'seas_16_20an', 'corr_1260d']\n",
        "fin_col = ['capxy', 'chechy', 'cshfdy', 'cshpry', 'dltry', 'dpcy',\n",
        "       'epspxy', 'oibdpy', 'txty']"
      ],
      "metadata": {
        "id": "4TzCmLL6-eTY"
      },
      "execution_count": null,
      "outputs": []
    },
    {
      "cell_type": "code",
      "source": [
        "train_set = stock_data[stock_data[\"year\"] <= 2021]\n",
        "vol_set = train_set[train_set[\"year\"]>2018]\n",
        "train_set = train_set[train_set[\"year\"]<=2018]\n",
        "test_set = stock_data[stock_data[\"year\"]>2021]"
      ],
      "metadata": {
        "id": "beRlJkE_-sbM"
      },
      "execution_count": null,
      "outputs": []
    },
    {
      "cell_type": "code",
      "source": [
        "ml_col = factor_col+fin_col+market_col+[\"quarter\", \"naics\", \"ind_1\"]"
      ],
      "metadata": {
        "id": "LCLsmTcz-viQ"
      },
      "execution_count": null,
      "outputs": []
    },
    {
      "cell_type": "code",
      "source": [
        "X_train = train_set[ml_col].values\n",
        "y_train = train_set[\"pred_cat\"]\n",
        "X_vol = vol_set[ml_col].values\n",
        "y_vol = vol_set[\"pred_cat\"]\n",
        "X_test = test_set[ml_col].values\n",
        "y_test = test_set[\"pred_cat\"]"
      ],
      "metadata": {
        "id": "3gnSiUNB-x5N"
      },
      "execution_count": null,
      "outputs": []
    },
    {
      "cell_type": "code",
      "source": [
        "def create_dnn_model(input_dim, hidden_layers=[256, 128, 64], dropout_rate=0.3):\n",
        "\n",
        "    model = models.Sequential([\n",
        "        layers.Input(shape=(input_dim,)),\n",
        "        layers.BatchNormalization()\n",
        "    ])\n",
        "\n",
        "    for i, units in enumerate(hidden_layers):\n",
        "        model.add(layers.Dense(units, activation='relu'))\n",
        "        model.add(layers.BatchNormalization())\n",
        "        model.add(layers.Dropout(dropout_rate))\n",
        "\n",
        "\n",
        "    model.add(layers.Dense(1, activation='sigmoid'))\n",
        "\n",
        "    return model\n",
        "\n",
        "\n",
        "dnn_model = create_dnn_model(X_train.shape[1])\n",
        "\n",
        "dnn_model.compile(\n",
        "    optimizer=Adam(learning_rate=0.01),\n",
        "    loss=BinaryCrossentropy(),\n",
        "    metrics=['accuracy', AUC(name='auc'), Precision(name='precision'), Recall(name='recall')]\n",
        ")\n",
        "\n",
        "print(\"Model Structure:\")\n",
        "dnn_model.summary()\n",
        "\n",
        "print(\"Training\")\n",
        "dnn_callbacks = [\n",
        "    callbacks.EarlyStopping(patience=20, restore_best_weights=True),\n",
        "    callbacks.ReduceLROnPlateau(patience=10, factor=0.5),\n",
        "    callbacks.ModelCheckpoint('best_dnn_model.h5', save_best_only=True)\n",
        "]\n",
        "\n",
        "dnn_history = dnn_model.fit(\n",
        "    X_train, y_train,\n",
        "    validation_data=(X_vol, y_vol),\n",
        "    epochs=50,\n",
        "    batch_size=32,\n",
        "    callbacks=dnn_callbacks,\n",
        "    verbose=1\n",
        ")\n",
        "\n",
        "\n",
        "dnn_pred_proba = dnn_model.predict(X_test)\n",
        "dnn_pred = (dnn_pred_proba > 0.5).astype(int)\n",
        "dnn_accuracy = accuracy_score(y_test, dnn_pred)\n",
        "dnn_auc = roc_auc_score(y_test, dnn_pred_proba)\n",
        "\n",
        "print(f\"DNN - Accuracy: {dnn_accuracy:.4f}, AUC: {dnn_auc:.4f}\")\n",
        "print()\n"
      ],
      "metadata": {
        "colab": {
          "base_uri": "https://localhost:8080/",
          "height": 1000
        },
        "id": "ID2Zw1UT-zE9",
        "outputId": "5e25edc3-1036-44b3-d5db-7e274f2cca11"
      },
      "execution_count": null,
      "outputs": [
        {
          "output_type": "stream",
          "name": "stdout",
          "text": [
            "Model Structure:\n"
          ]
        },
        {
          "output_type": "display_data",
          "data": {
            "text/plain": [
              "\u001b[1mModel: \"sequential_1\"\u001b[0m\n"
            ],
            "text/html": [
              "<pre style=\"white-space:pre;overflow-x:auto;line-height:normal;font-family:Menlo,'DejaVu Sans Mono',consolas,'Courier New',monospace\"><span style=\"font-weight: bold\">Model: \"sequential_1\"</span>\n",
              "</pre>\n"
            ]
          },
          "metadata": {}
        },
        {
          "output_type": "display_data",
          "data": {
            "text/plain": [
              "┏━━━━━━━━━━━━━━━━━━━━━━━━━━━━━━━━━┳━━━━━━━━━━━━━━━━━━━━━━━━┳━━━━━━━━━━━━━━━┓\n",
              "┃\u001b[1m \u001b[0m\u001b[1mLayer (type)                   \u001b[0m\u001b[1m \u001b[0m┃\u001b[1m \u001b[0m\u001b[1mOutput Shape          \u001b[0m\u001b[1m \u001b[0m┃\u001b[1m \u001b[0m\u001b[1m      Param #\u001b[0m\u001b[1m \u001b[0m┃\n",
              "┡━━━━━━━━━━━━━━━━━━━━━━━━━━━━━━━━━╇━━━━━━━━━━━━━━━━━━━━━━━━╇━━━━━━━━━━━━━━━┩\n",
              "│ batch_normalization_4           │ (\u001b[38;5;45mNone\u001b[0m, \u001b[38;5;34m31\u001b[0m)             │           \u001b[38;5;34m124\u001b[0m │\n",
              "│ (\u001b[38;5;33mBatchNormalization\u001b[0m)            │                        │               │\n",
              "├─────────────────────────────────┼────────────────────────┼───────────────┤\n",
              "│ dense_4 (\u001b[38;5;33mDense\u001b[0m)                 │ (\u001b[38;5;45mNone\u001b[0m, \u001b[38;5;34m256\u001b[0m)            │         \u001b[38;5;34m8,192\u001b[0m │\n",
              "├─────────────────────────────────┼────────────────────────┼───────────────┤\n",
              "│ batch_normalization_5           │ (\u001b[38;5;45mNone\u001b[0m, \u001b[38;5;34m256\u001b[0m)            │         \u001b[38;5;34m1,024\u001b[0m │\n",
              "│ (\u001b[38;5;33mBatchNormalization\u001b[0m)            │                        │               │\n",
              "├─────────────────────────────────┼────────────────────────┼───────────────┤\n",
              "│ dropout_3 (\u001b[38;5;33mDropout\u001b[0m)             │ (\u001b[38;5;45mNone\u001b[0m, \u001b[38;5;34m256\u001b[0m)            │             \u001b[38;5;34m0\u001b[0m │\n",
              "├─────────────────────────────────┼────────────────────────┼───────────────┤\n",
              "│ dense_5 (\u001b[38;5;33mDense\u001b[0m)                 │ (\u001b[38;5;45mNone\u001b[0m, \u001b[38;5;34m128\u001b[0m)            │        \u001b[38;5;34m32,896\u001b[0m │\n",
              "├─────────────────────────────────┼────────────────────────┼───────────────┤\n",
              "│ batch_normalization_6           │ (\u001b[38;5;45mNone\u001b[0m, \u001b[38;5;34m128\u001b[0m)            │           \u001b[38;5;34m512\u001b[0m │\n",
              "│ (\u001b[38;5;33mBatchNormalization\u001b[0m)            │                        │               │\n",
              "├─────────────────────────────────┼────────────────────────┼───────────────┤\n",
              "│ dropout_4 (\u001b[38;5;33mDropout\u001b[0m)             │ (\u001b[38;5;45mNone\u001b[0m, \u001b[38;5;34m128\u001b[0m)            │             \u001b[38;5;34m0\u001b[0m │\n",
              "├─────────────────────────────────┼────────────────────────┼───────────────┤\n",
              "│ dense_6 (\u001b[38;5;33mDense\u001b[0m)                 │ (\u001b[38;5;45mNone\u001b[0m, \u001b[38;5;34m64\u001b[0m)             │         \u001b[38;5;34m8,256\u001b[0m │\n",
              "├─────────────────────────────────┼────────────────────────┼───────────────┤\n",
              "│ batch_normalization_7           │ (\u001b[38;5;45mNone\u001b[0m, \u001b[38;5;34m64\u001b[0m)             │           \u001b[38;5;34m256\u001b[0m │\n",
              "│ (\u001b[38;5;33mBatchNormalization\u001b[0m)            │                        │               │\n",
              "├─────────────────────────────────┼────────────────────────┼───────────────┤\n",
              "│ dropout_5 (\u001b[38;5;33mDropout\u001b[0m)             │ (\u001b[38;5;45mNone\u001b[0m, \u001b[38;5;34m64\u001b[0m)             │             \u001b[38;5;34m0\u001b[0m │\n",
              "├─────────────────────────────────┼────────────────────────┼───────────────┤\n",
              "│ dense_7 (\u001b[38;5;33mDense\u001b[0m)                 │ (\u001b[38;5;45mNone\u001b[0m, \u001b[38;5;34m1\u001b[0m)              │            \u001b[38;5;34m65\u001b[0m │\n",
              "└─────────────────────────────────┴────────────────────────┴───────────────┘\n"
            ],
            "text/html": [
              "<pre style=\"white-space:pre;overflow-x:auto;line-height:normal;font-family:Menlo,'DejaVu Sans Mono',consolas,'Courier New',monospace\">┏━━━━━━━━━━━━━━━━━━━━━━━━━━━━━━━━━┳━━━━━━━━━━━━━━━━━━━━━━━━┳━━━━━━━━━━━━━━━┓\n",
              "┃<span style=\"font-weight: bold\"> Layer (type)                    </span>┃<span style=\"font-weight: bold\"> Output Shape           </span>┃<span style=\"font-weight: bold\">       Param # </span>┃\n",
              "┡━━━━━━━━━━━━━━━━━━━━━━━━━━━━━━━━━╇━━━━━━━━━━━━━━━━━━━━━━━━╇━━━━━━━━━━━━━━━┩\n",
              "│ batch_normalization_4           │ (<span style=\"color: #00d7ff; text-decoration-color: #00d7ff\">None</span>, <span style=\"color: #00af00; text-decoration-color: #00af00\">31</span>)             │           <span style=\"color: #00af00; text-decoration-color: #00af00\">124</span> │\n",
              "│ (<span style=\"color: #0087ff; text-decoration-color: #0087ff\">BatchNormalization</span>)            │                        │               │\n",
              "├─────────────────────────────────┼────────────────────────┼───────────────┤\n",
              "│ dense_4 (<span style=\"color: #0087ff; text-decoration-color: #0087ff\">Dense</span>)                 │ (<span style=\"color: #00d7ff; text-decoration-color: #00d7ff\">None</span>, <span style=\"color: #00af00; text-decoration-color: #00af00\">256</span>)            │         <span style=\"color: #00af00; text-decoration-color: #00af00\">8,192</span> │\n",
              "├─────────────────────────────────┼────────────────────────┼───────────────┤\n",
              "│ batch_normalization_5           │ (<span style=\"color: #00d7ff; text-decoration-color: #00d7ff\">None</span>, <span style=\"color: #00af00; text-decoration-color: #00af00\">256</span>)            │         <span style=\"color: #00af00; text-decoration-color: #00af00\">1,024</span> │\n",
              "│ (<span style=\"color: #0087ff; text-decoration-color: #0087ff\">BatchNormalization</span>)            │                        │               │\n",
              "├─────────────────────────────────┼────────────────────────┼───────────────┤\n",
              "│ dropout_3 (<span style=\"color: #0087ff; text-decoration-color: #0087ff\">Dropout</span>)             │ (<span style=\"color: #00d7ff; text-decoration-color: #00d7ff\">None</span>, <span style=\"color: #00af00; text-decoration-color: #00af00\">256</span>)            │             <span style=\"color: #00af00; text-decoration-color: #00af00\">0</span> │\n",
              "├─────────────────────────────────┼────────────────────────┼───────────────┤\n",
              "│ dense_5 (<span style=\"color: #0087ff; text-decoration-color: #0087ff\">Dense</span>)                 │ (<span style=\"color: #00d7ff; text-decoration-color: #00d7ff\">None</span>, <span style=\"color: #00af00; text-decoration-color: #00af00\">128</span>)            │        <span style=\"color: #00af00; text-decoration-color: #00af00\">32,896</span> │\n",
              "├─────────────────────────────────┼────────────────────────┼───────────────┤\n",
              "│ batch_normalization_6           │ (<span style=\"color: #00d7ff; text-decoration-color: #00d7ff\">None</span>, <span style=\"color: #00af00; text-decoration-color: #00af00\">128</span>)            │           <span style=\"color: #00af00; text-decoration-color: #00af00\">512</span> │\n",
              "│ (<span style=\"color: #0087ff; text-decoration-color: #0087ff\">BatchNormalization</span>)            │                        │               │\n",
              "├─────────────────────────────────┼────────────────────────┼───────────────┤\n",
              "│ dropout_4 (<span style=\"color: #0087ff; text-decoration-color: #0087ff\">Dropout</span>)             │ (<span style=\"color: #00d7ff; text-decoration-color: #00d7ff\">None</span>, <span style=\"color: #00af00; text-decoration-color: #00af00\">128</span>)            │             <span style=\"color: #00af00; text-decoration-color: #00af00\">0</span> │\n",
              "├─────────────────────────────────┼────────────────────────┼───────────────┤\n",
              "│ dense_6 (<span style=\"color: #0087ff; text-decoration-color: #0087ff\">Dense</span>)                 │ (<span style=\"color: #00d7ff; text-decoration-color: #00d7ff\">None</span>, <span style=\"color: #00af00; text-decoration-color: #00af00\">64</span>)             │         <span style=\"color: #00af00; text-decoration-color: #00af00\">8,256</span> │\n",
              "├─────────────────────────────────┼────────────────────────┼───────────────┤\n",
              "│ batch_normalization_7           │ (<span style=\"color: #00d7ff; text-decoration-color: #00d7ff\">None</span>, <span style=\"color: #00af00; text-decoration-color: #00af00\">64</span>)             │           <span style=\"color: #00af00; text-decoration-color: #00af00\">256</span> │\n",
              "│ (<span style=\"color: #0087ff; text-decoration-color: #0087ff\">BatchNormalization</span>)            │                        │               │\n",
              "├─────────────────────────────────┼────────────────────────┼───────────────┤\n",
              "│ dropout_5 (<span style=\"color: #0087ff; text-decoration-color: #0087ff\">Dropout</span>)             │ (<span style=\"color: #00d7ff; text-decoration-color: #00d7ff\">None</span>, <span style=\"color: #00af00; text-decoration-color: #00af00\">64</span>)             │             <span style=\"color: #00af00; text-decoration-color: #00af00\">0</span> │\n",
              "├─────────────────────────────────┼────────────────────────┼───────────────┤\n",
              "│ dense_7 (<span style=\"color: #0087ff; text-decoration-color: #0087ff\">Dense</span>)                 │ (<span style=\"color: #00d7ff; text-decoration-color: #00d7ff\">None</span>, <span style=\"color: #00af00; text-decoration-color: #00af00\">1</span>)              │            <span style=\"color: #00af00; text-decoration-color: #00af00\">65</span> │\n",
              "└─────────────────────────────────┴────────────────────────┴───────────────┘\n",
              "</pre>\n"
            ]
          },
          "metadata": {}
        },
        {
          "output_type": "display_data",
          "data": {
            "text/plain": [
              "\u001b[1m Total params: \u001b[0m\u001b[38;5;34m51,325\u001b[0m (200.49 KB)\n"
            ],
            "text/html": [
              "<pre style=\"white-space:pre;overflow-x:auto;line-height:normal;font-family:Menlo,'DejaVu Sans Mono',consolas,'Courier New',monospace\"><span style=\"font-weight: bold\"> Total params: </span><span style=\"color: #00af00; text-decoration-color: #00af00\">51,325</span> (200.49 KB)\n",
              "</pre>\n"
            ]
          },
          "metadata": {}
        },
        {
          "output_type": "display_data",
          "data": {
            "text/plain": [
              "\u001b[1m Trainable params: \u001b[0m\u001b[38;5;34m50,367\u001b[0m (196.75 KB)\n"
            ],
            "text/html": [
              "<pre style=\"white-space:pre;overflow-x:auto;line-height:normal;font-family:Menlo,'DejaVu Sans Mono',consolas,'Courier New',monospace\"><span style=\"font-weight: bold\"> Trainable params: </span><span style=\"color: #00af00; text-decoration-color: #00af00\">50,367</span> (196.75 KB)\n",
              "</pre>\n"
            ]
          },
          "metadata": {}
        },
        {
          "output_type": "display_data",
          "data": {
            "text/plain": [
              "\u001b[1m Non-trainable params: \u001b[0m\u001b[38;5;34m958\u001b[0m (3.74 KB)\n"
            ],
            "text/html": [
              "<pre style=\"white-space:pre;overflow-x:auto;line-height:normal;font-family:Menlo,'DejaVu Sans Mono',consolas,'Courier New',monospace\"><span style=\"font-weight: bold\"> Non-trainable params: </span><span style=\"color: #00af00; text-decoration-color: #00af00\">958</span> (3.74 KB)\n",
              "</pre>\n"
            ]
          },
          "metadata": {}
        },
        {
          "output_type": "stream",
          "name": "stdout",
          "text": [
            "Training\n",
            "Epoch 1/50\n",
            "\u001b[1m31103/31103\u001b[0m \u001b[32m━━━━━━━━━━━━━━━━━━━━\u001b[0m\u001b[37m\u001b[0m \u001b[1m0s\u001b[0m 3ms/step - accuracy: 0.6198 - auc: 0.6576 - loss: 0.6531 - precision: 0.6177 - recall: 0.7443"
          ]
        },
        {
          "output_type": "stream",
          "name": "stderr",
          "text": [
            "WARNING:absl:You are saving your model as an HDF5 file via `model.save()` or `keras.saving.save_model(model)`. This file format is considered legacy. We recommend using instead the native Keras format, e.g. `model.save('my_model.keras')` or `keras.saving.save_model(model, 'my_model.keras')`. \n"
          ]
        },
        {
          "output_type": "stream",
          "name": "stdout",
          "text": [
            "\b\b\b\b\b\b\b\b\b\b\b\b\b\b\b\b\b\b\b\b\b\b\b\b\b\b\b\b\b\b\b\b\b\b\b\b\b\b\b\b\b\b\b\b\b\b\b\b\b\b\b\b\b\b\b\b\b\b\b\b\b\b\b\b\b\b\b\b\b\b\b\b\b\b\b\b\b\b\b\b\b\b\b\b\b\b\b\b\b\b\b\b\b\b\b\b\b\b\b\b\b\b\b\b\b\b\b\b\b\b\b\b\b\b\b\b\b\b\b\b\b\b\b\b\b\b\b\b\b\r\u001b[1m31103/31103\u001b[0m \u001b[32m━━━━━━━━━━━━━━━━━━━━\u001b[0m\u001b[37m\u001b[0m \u001b[1m108s\u001b[0m 3ms/step - accuracy: 0.6198 - auc: 0.6576 - loss: 0.6531 - precision: 0.6177 - recall: 0.7443 - val_accuracy: 0.6219 - val_auc: 0.6469 - val_loss: 0.6465 - val_precision: 0.6351 - val_recall: 0.8144 - learning_rate: 0.0100\n",
            "Epoch 2/50\n",
            "\u001b[1m31103/31103\u001b[0m \u001b[32m━━━━━━━━━━━━━━━━━━━━\u001b[0m\u001b[37m\u001b[0m \u001b[1m98s\u001b[0m 3ms/step - accuracy: 0.6378 - auc: 0.6792 - loss: 0.6399 - precision: 0.6312 - recall: 0.7652 - val_accuracy: 0.6334 - val_auc: 0.6033 - val_loss: 0.6698 - val_precision: 0.6310 - val_recall: 0.8823 - learning_rate: 0.0100\n",
            "Epoch 3/50\n",
            "\u001b[1m31103/31103\u001b[0m \u001b[32m━━━━━━━━━━━━━━━━━━━━\u001b[0m\u001b[37m\u001b[0m \u001b[1m98s\u001b[0m 3ms/step - accuracy: 0.6393 - auc: 0.6812 - loss: 0.6392 - precision: 0.6334 - recall: 0.7615 - val_accuracy: 0.5752 - val_auc: 0.5450 - val_loss: 1.0652 - val_precision: 0.6056 - val_recall: 0.7623 - learning_rate: 0.0100\n",
            "Epoch 4/50\n",
            "\u001b[1m31103/31103\u001b[0m \u001b[32m━━━━━━━━━━━━━━━━━━━━\u001b[0m\u001b[37m\u001b[0m \u001b[1m97s\u001b[0m 3ms/step - accuracy: 0.6399 - auc: 0.6831 - loss: 0.6378 - precision: 0.6337 - recall: 0.7622 - val_accuracy: 0.6099 - val_auc: 0.5757 - val_loss: 0.6795 - val_precision: 0.6059 - val_recall: 0.9317 - learning_rate: 0.0100\n",
            "Epoch 5/50\n",
            "\u001b[1m31103/31103\u001b[0m \u001b[32m━━━━━━━━━━━━━━━━━━━━\u001b[0m\u001b[37m\u001b[0m \u001b[1m98s\u001b[0m 3ms/step - accuracy: 0.6419 - auc: 0.6853 - loss: 0.6368 - precision: 0.6359 - recall: 0.7615 - val_accuracy: 0.6144 - val_auc: 0.6285 - val_loss: 0.6631 - val_precision: 0.6294 - val_recall: 0.8110 - learning_rate: 0.0100\n",
            "Epoch 6/50\n",
            "\u001b[1m31103/31103\u001b[0m \u001b[32m━━━━━━━━━━━━━━━━━━━━\u001b[0m\u001b[37m\u001b[0m \u001b[1m96s\u001b[0m 3ms/step - accuracy: 0.6425 - auc: 0.6863 - loss: 0.6362 - precision: 0.6367 - recall: 0.7589 - val_accuracy: 0.6271 - val_auc: 0.6332 - val_loss: 0.6633 - val_precision: 0.6193 - val_recall: 0.9230 - learning_rate: 0.0100\n",
            "Epoch 7/50\n",
            "\u001b[1m31103/31103\u001b[0m \u001b[32m━━━━━━━━━━━━━━━━━━━━\u001b[0m\u001b[37m\u001b[0m \u001b[1m97s\u001b[0m 3ms/step - accuracy: 0.6427 - auc: 0.6863 - loss: 0.6363 - precision: 0.6366 - recall: 0.7589 - val_accuracy: 0.6044 - val_auc: 0.5894 - val_loss: 0.6842 - val_precision: 0.6261 - val_recall: 0.7851 - learning_rate: 0.0100\n",
            "Epoch 8/50\n",
            "\u001b[1m31103/31103\u001b[0m \u001b[32m━━━━━━━━━━━━━━━━━━━━\u001b[0m\u001b[37m\u001b[0m \u001b[1m96s\u001b[0m 3ms/step - accuracy: 0.6440 - auc: 0.6877 - loss: 0.6354 - precision: 0.6381 - recall: 0.7593 - val_accuracy: 0.6276 - val_auc: 0.5839 - val_loss: 0.6750 - val_precision: 0.6192 - val_recall: 0.9258 - learning_rate: 0.0100\n",
            "Epoch 9/50\n",
            "\u001b[1m31103/31103\u001b[0m \u001b[32m━━━━━━━━━━━━━━━━━━━━\u001b[0m\u001b[37m\u001b[0m \u001b[1m96s\u001b[0m 3ms/step - accuracy: 0.6428 - auc: 0.6863 - loss: 0.6361 - precision: 0.6368 - recall: 0.7630 - val_accuracy: 0.5959 - val_auc: 0.5657 - val_loss: 1.3317 - val_precision: 0.6077 - val_recall: 0.8508 - learning_rate: 0.0100\n",
            "Epoch 10/50\n",
            "\u001b[1m31103/31103\u001b[0m \u001b[32m━━━━━━━━━━━━━━━━━━━━\u001b[0m\u001b[37m\u001b[0m \u001b[1m97s\u001b[0m 3ms/step - accuracy: 0.6447 - auc: 0.6878 - loss: 0.6352 - precision: 0.6386 - recall: 0.7629 - val_accuracy: 0.5754 - val_auc: 0.5847 - val_loss: 0.7791 - val_precision: 0.6366 - val_recall: 0.6203 - learning_rate: 0.0100\n",
            "Epoch 11/50\n",
            "\u001b[1m31103/31103\u001b[0m \u001b[32m━━━━━━━━━━━━━━━━━━━━\u001b[0m\u001b[37m\u001b[0m \u001b[1m98s\u001b[0m 3ms/step - accuracy: 0.6449 - auc: 0.6890 - loss: 0.6343 - precision: 0.6388 - recall: 0.7629 - val_accuracy: 0.6038 - val_auc: 0.6352 - val_loss: 0.6687 - val_precision: 0.6491 - val_recall: 0.6864 - learning_rate: 0.0100\n",
            "Epoch 12/50\n",
            "\u001b[1m31103/31103\u001b[0m \u001b[32m━━━━━━━━━━━━━━━━━━━━\u001b[0m\u001b[37m\u001b[0m \u001b[1m97s\u001b[0m 3ms/step - accuracy: 0.6461 - auc: 0.6920 - loss: 0.6324 - precision: 0.6403 - recall: 0.7598 - val_accuracy: 0.5974 - val_auc: 0.5752 - val_loss: 0.6741 - val_precision: 0.6090 - val_recall: 0.8493 - learning_rate: 0.0050\n",
            "Epoch 13/50\n",
            "\u001b[1m31103/31103\u001b[0m \u001b[32m━━━━━━━━━━━━━━━━━━━━\u001b[0m\u001b[37m\u001b[0m \u001b[1m97s\u001b[0m 3ms/step - accuracy: 0.6459 - auc: 0.6922 - loss: 0.6322 - precision: 0.6399 - recall: 0.7611 - val_accuracy: 0.6175 - val_auc: 0.6182 - val_loss: 0.6599 - val_precision: 0.6399 - val_recall: 0.7752 - learning_rate: 0.0050\n",
            "Epoch 14/50\n",
            "\u001b[1m31103/31103\u001b[0m \u001b[32m━━━━━━━━━━━━━━━━━━━━\u001b[0m\u001b[37m\u001b[0m \u001b[1m97s\u001b[0m 3ms/step - accuracy: 0.6451 - auc: 0.6918 - loss: 0.6324 - precision: 0.6395 - recall: 0.7604 - val_accuracy: 0.6175 - val_auc: 0.6191 - val_loss: 0.6581 - val_precision: 0.6402 - val_recall: 0.7740 - learning_rate: 0.0050\n",
            "Epoch 15/50\n",
            "\u001b[1m31103/31103\u001b[0m \u001b[32m━━━━━━━━━━━━━━━━━━━━\u001b[0m\u001b[37m\u001b[0m \u001b[1m96s\u001b[0m 3ms/step - accuracy: 0.6465 - auc: 0.6923 - loss: 0.6319 - precision: 0.6405 - recall: 0.7627 - val_accuracy: 0.6105 - val_auc: 0.6224 - val_loss: 0.6565 - val_precision: 0.6246 - val_recall: 0.8195 - learning_rate: 0.0050\n",
            "Epoch 16/50\n",
            "\u001b[1m31103/31103\u001b[0m \u001b[32m━━━━━━━━━━━━━━━━━━━━\u001b[0m\u001b[37m\u001b[0m \u001b[1m96s\u001b[0m 3ms/step - accuracy: 0.6457 - auc: 0.6923 - loss: 0.6322 - precision: 0.6402 - recall: 0.7568 - val_accuracy: 0.6050 - val_auc: 0.6168 - val_loss: 0.6710 - val_precision: 0.6261 - val_recall: 0.7879 - learning_rate: 0.0050\n",
            "Epoch 17/50\n",
            "\u001b[1m31103/31103\u001b[0m \u001b[32m━━━━━━━━━━━━━━━━━━━━\u001b[0m\u001b[37m\u001b[0m \u001b[1m97s\u001b[0m 3ms/step - accuracy: 0.6471 - auc: 0.6930 - loss: 0.6318 - precision: 0.6409 - recall: 0.7596 - val_accuracy: 0.5994 - val_auc: 0.6129 - val_loss: 0.6698 - val_precision: 0.6422 - val_recall: 0.6947 - learning_rate: 0.0050\n",
            "Epoch 18/50\n",
            "\u001b[1m31103/31103\u001b[0m \u001b[32m━━━━━━━━━━━━━━━━━━━━\u001b[0m\u001b[37m\u001b[0m \u001b[1m96s\u001b[0m 3ms/step - accuracy: 0.6462 - auc: 0.6923 - loss: 0.6320 - precision: 0.6407 - recall: 0.7583 - val_accuracy: 0.6129 - val_auc: 0.6167 - val_loss: 0.6534 - val_precision: 0.6418 - val_recall: 0.7490 - learning_rate: 0.0050\n",
            "Epoch 19/50\n",
            "\u001b[1m31103/31103\u001b[0m \u001b[32m━━━━━━━━━━━━━━━━━━━━\u001b[0m\u001b[37m\u001b[0m \u001b[1m97s\u001b[0m 3ms/step - accuracy: 0.6477 - auc: 0.6934 - loss: 0.6315 - precision: 0.6414 - recall: 0.7613 - val_accuracy: 0.6243 - val_auc: 0.6066 - val_loss: 0.6640 - val_precision: 0.6479 - val_recall: 0.7681 - learning_rate: 0.0050\n",
            "Epoch 20/50\n",
            "\u001b[1m31103/31103\u001b[0m \u001b[32m━━━━━━━━━━━━━━━━━━━━\u001b[0m\u001b[37m\u001b[0m \u001b[1m97s\u001b[0m 3ms/step - accuracy: 0.6474 - auc: 0.6940 - loss: 0.6308 - precision: 0.6409 - recall: 0.7640 - val_accuracy: 0.5957 - val_auc: 0.6224 - val_loss: 0.6551 - val_precision: 0.6243 - val_recall: 0.7562 - learning_rate: 0.0050\n",
            "Epoch 21/50\n",
            "\u001b[1m31103/31103\u001b[0m \u001b[32m━━━━━━━━━━━━━━━━━━━━\u001b[0m\u001b[37m\u001b[0m \u001b[1m97s\u001b[0m 3ms/step - accuracy: 0.6461 - auc: 0.6935 - loss: 0.6312 - precision: 0.6403 - recall: 0.7607 - val_accuracy: 0.6175 - val_auc: 0.6235 - val_loss: 0.6619 - val_precision: 0.6400 - val_recall: 0.7748 - learning_rate: 0.0050\n",
            "\u001b[1m8863/8863\u001b[0m \u001b[32m━━━━━━━━━━━━━━━━━━━━\u001b[0m\u001b[37m\u001b[0m \u001b[1m11s\u001b[0m 1ms/step\n",
            "DNN - Accuracy: 0.5911, AUC: 0.6526\n",
            "\n"
          ]
        }
      ]
    }
  ]
}