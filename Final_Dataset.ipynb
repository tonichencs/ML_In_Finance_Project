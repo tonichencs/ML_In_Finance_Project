{
  "nbformat": 4,
  "nbformat_minor": 0,
  "metadata": {
    "colab": {
      "provenance": []
    },
    "kernelspec": {
      "name": "python3",
      "display_name": "Python 3"
    },
    "language_info": {
      "name": "python"
    }
  },
  "cells": [
    {
      "cell_type": "code",
      "source": [
        "import pandas as pd"
      ],
      "metadata": {
        "id": "antSb0e-tqxZ"
      },
      "execution_count": null,
      "outputs": []
    },
    {
      "cell_type": "code",
      "source": [
        "from google.colab import drive\n",
        "drive.mount('/content/drive')"
      ],
      "metadata": {
        "colab": {
          "base_uri": "https://localhost:8080/"
        },
        "id": "87TUBRtl72jb",
        "outputId": "e1763ef1-afe7-45d7-fd7f-411baf7dabf7"
      },
      "execution_count": null,
      "outputs": [
        {
          "output_type": "stream",
          "name": "stdout",
          "text": [
            "Drive already mounted at /content/drive; to attempt to forcibly remount, call drive.mount(\"/content/drive\", force_remount=True).\n"
          ]
        }
      ]
    },
    {
      "cell_type": "code",
      "source": [
        "import os\n",
        "\n",
        "output_directory = '/content/drive/MyDrive/ML_Project/Earning_calls_embedding'\n",
        "\n",
        "if os.path.exists(output_directory):\n",
        "    print(f\"Path '{output_directory}' exists.\")\n",
        "    if os.path.isdir(output_directory):\n",
        "        print(f\"And it is a directory.\")\n",
        "    else:\n",
        "        print(f\"But it is NOT a directory (it's a file or something else).\")\n",
        "else:\n",
        "    print(f\"Path '{output_directory}' DOES NOT exist.\")"
      ],
      "metadata": {
        "colab": {
          "base_uri": "https://localhost:8080/"
        },
        "id": "auLfKhV370-K",
        "outputId": "6d36879f-8157-4bfa-b831-00e29a839f83"
      },
      "execution_count": null,
      "outputs": [
        {
          "output_type": "stream",
          "name": "stdout",
          "text": [
            "Path '/content/drive/MyDrive/ML_Project/Earning_calls_embedding' exists.\n",
            "And it is a directory.\n"
          ]
        }
      ]
    },
    {
      "cell_type": "code",
      "execution_count": null,
      "metadata": {
        "id": "J9bkXkqwtbU3"
      },
      "outputs": [],
      "source": [
        "compustat = pd.read_csv('/content/drive/MyDrive/ML_Project/compustat/filtered_compustat_char.csv')\n",
        "target = pd.read_csv('/content/drive/MyDrive/ML_Project/target/target_data.csv')"
      ]
    },
    {
      "cell_type": "code",
      "source": [
        "compustat.isna().sum()"
      ],
      "metadata": {
        "colab": {
          "base_uri": "https://localhost:8080/",
          "height": 460
        },
        "id": "Q-qoHN4_t5_v",
        "outputId": "bb914239-fe03-4556-b02d-3386c9a21d2b"
      },
      "execution_count": null,
      "outputs": [
        {
          "output_type": "execute_result",
          "data": {
            "text/plain": [
              "gvkey       0\n",
              "datadate    0\n",
              "cusip       0\n",
              "capxy       0\n",
              "chechy      0\n",
              "cshfdy      0\n",
              "cshpry      0\n",
              "dltry       0\n",
              "dpcy        0\n",
              "epspxy      0\n",
              "oibdpy      0\n",
              "txty        0\n",
              "dtype: int64"
            ],
            "text/html": [
              "<div>\n",
              "<style scoped>\n",
              "    .dataframe tbody tr th:only-of-type {\n",
              "        vertical-align: middle;\n",
              "    }\n",
              "\n",
              "    .dataframe tbody tr th {\n",
              "        vertical-align: top;\n",
              "    }\n",
              "\n",
              "    .dataframe thead th {\n",
              "        text-align: right;\n",
              "    }\n",
              "</style>\n",
              "<table border=\"1\" class=\"dataframe\">\n",
              "  <thead>\n",
              "    <tr style=\"text-align: right;\">\n",
              "      <th></th>\n",
              "      <th>0</th>\n",
              "    </tr>\n",
              "  </thead>\n",
              "  <tbody>\n",
              "    <tr>\n",
              "      <th>gvkey</th>\n",
              "      <td>0</td>\n",
              "    </tr>\n",
              "    <tr>\n",
              "      <th>datadate</th>\n",
              "      <td>0</td>\n",
              "    </tr>\n",
              "    <tr>\n",
              "      <th>cusip</th>\n",
              "      <td>0</td>\n",
              "    </tr>\n",
              "    <tr>\n",
              "      <th>capxy</th>\n",
              "      <td>0</td>\n",
              "    </tr>\n",
              "    <tr>\n",
              "      <th>chechy</th>\n",
              "      <td>0</td>\n",
              "    </tr>\n",
              "    <tr>\n",
              "      <th>cshfdy</th>\n",
              "      <td>0</td>\n",
              "    </tr>\n",
              "    <tr>\n",
              "      <th>cshpry</th>\n",
              "      <td>0</td>\n",
              "    </tr>\n",
              "    <tr>\n",
              "      <th>dltry</th>\n",
              "      <td>0</td>\n",
              "    </tr>\n",
              "    <tr>\n",
              "      <th>dpcy</th>\n",
              "      <td>0</td>\n",
              "    </tr>\n",
              "    <tr>\n",
              "      <th>epspxy</th>\n",
              "      <td>0</td>\n",
              "    </tr>\n",
              "    <tr>\n",
              "      <th>oibdpy</th>\n",
              "      <td>0</td>\n",
              "    </tr>\n",
              "    <tr>\n",
              "      <th>txty</th>\n",
              "      <td>0</td>\n",
              "    </tr>\n",
              "  </tbody>\n",
              "</table>\n",
              "</div><br><label><b>dtype:</b> int64</label>"
            ]
          },
          "metadata": {},
          "execution_count": 5
        }
      ]
    },
    {
      "cell_type": "code",
      "source": [
        "target.dtypes"
      ],
      "metadata": {
        "colab": {
          "base_uri": "https://localhost:8080/",
          "height": 648
        },
        "id": "57y4ji_bzzn5",
        "outputId": "6c3f5bc7-40dc-468c-c123-c28b2bc25bb8"
      },
      "execution_count": null,
      "outputs": [
        {
          "output_type": "execute_result",
          "data": {
            "text/plain": [
              "permno                       int64\n",
              "hdrcusip                    object\n",
              "cusip                       object\n",
              "ticker                      object\n",
              "industry                     int64\n",
              "date                        object\n",
              "ret                        float64\n",
              "ret_market                 float64\n",
              "ret_now_sign               float64\n",
              "ret_lag1                   float64\n",
              "ret_trend1_sign            float64\n",
              "ret_cum_forward3m          float64\n",
              "ret_cum_forward3m_sign     float64\n",
              "ret_cum_forward12m         float64\n",
              "ret_cum_forward12m_sign    float64\n",
              "ret_cum_backward3m         float64\n",
              "ret_cum_backward6m         float64\n",
              "ret_cum_backward12m        float64\n",
              "dtype: object"
            ],
            "text/html": [
              "<div>\n",
              "<style scoped>\n",
              "    .dataframe tbody tr th:only-of-type {\n",
              "        vertical-align: middle;\n",
              "    }\n",
              "\n",
              "    .dataframe tbody tr th {\n",
              "        vertical-align: top;\n",
              "    }\n",
              "\n",
              "    .dataframe thead th {\n",
              "        text-align: right;\n",
              "    }\n",
              "</style>\n",
              "<table border=\"1\" class=\"dataframe\">\n",
              "  <thead>\n",
              "    <tr style=\"text-align: right;\">\n",
              "      <th></th>\n",
              "      <th>0</th>\n",
              "    </tr>\n",
              "  </thead>\n",
              "  <tbody>\n",
              "    <tr>\n",
              "      <th>permno</th>\n",
              "      <td>int64</td>\n",
              "    </tr>\n",
              "    <tr>\n",
              "      <th>hdrcusip</th>\n",
              "      <td>object</td>\n",
              "    </tr>\n",
              "    <tr>\n",
              "      <th>cusip</th>\n",
              "      <td>object</td>\n",
              "    </tr>\n",
              "    <tr>\n",
              "      <th>ticker</th>\n",
              "      <td>object</td>\n",
              "    </tr>\n",
              "    <tr>\n",
              "      <th>industry</th>\n",
              "      <td>int64</td>\n",
              "    </tr>\n",
              "    <tr>\n",
              "      <th>date</th>\n",
              "      <td>object</td>\n",
              "    </tr>\n",
              "    <tr>\n",
              "      <th>ret</th>\n",
              "      <td>float64</td>\n",
              "    </tr>\n",
              "    <tr>\n",
              "      <th>ret_market</th>\n",
              "      <td>float64</td>\n",
              "    </tr>\n",
              "    <tr>\n",
              "      <th>ret_now_sign</th>\n",
              "      <td>float64</td>\n",
              "    </tr>\n",
              "    <tr>\n",
              "      <th>ret_lag1</th>\n",
              "      <td>float64</td>\n",
              "    </tr>\n",
              "    <tr>\n",
              "      <th>ret_trend1_sign</th>\n",
              "      <td>float64</td>\n",
              "    </tr>\n",
              "    <tr>\n",
              "      <th>ret_cum_forward3m</th>\n",
              "      <td>float64</td>\n",
              "    </tr>\n",
              "    <tr>\n",
              "      <th>ret_cum_forward3m_sign</th>\n",
              "      <td>float64</td>\n",
              "    </tr>\n",
              "    <tr>\n",
              "      <th>ret_cum_forward12m</th>\n",
              "      <td>float64</td>\n",
              "    </tr>\n",
              "    <tr>\n",
              "      <th>ret_cum_forward12m_sign</th>\n",
              "      <td>float64</td>\n",
              "    </tr>\n",
              "    <tr>\n",
              "      <th>ret_cum_backward3m</th>\n",
              "      <td>float64</td>\n",
              "    </tr>\n",
              "    <tr>\n",
              "      <th>ret_cum_backward6m</th>\n",
              "      <td>float64</td>\n",
              "    </tr>\n",
              "    <tr>\n",
              "      <th>ret_cum_backward12m</th>\n",
              "      <td>float64</td>\n",
              "    </tr>\n",
              "  </tbody>\n",
              "</table>\n",
              "</div><br><label><b>dtype:</b> object</label>"
            ]
          },
          "metadata": {},
          "execution_count": 9
        }
      ]
    },
    {
      "cell_type": "code",
      "source": [
        "# Truncate each CUSIP to its first 8 characters\n",
        "compustat['cusip'] = compustat['cusip'].str[:8]\n",
        "\n",
        "target.drop(columns=['cusip'], inplace=True)\n",
        "target.rename(columns={'hdrcusip': 'cusip'}, inplace=True)\n",
        "\n",
        "compustat['datadate'] = pd.to_datetime(compustat['datadate'])\n",
        "target['date'] = pd.to_datetime(target['date'])"
      ],
      "metadata": {
        "id": "MLqIEPLO8mHc"
      },
      "execution_count": null,
      "outputs": []
    },
    {
      "cell_type": "code",
      "source": [
        "target = target.sort_values('date')\n",
        "compustat = compustat.sort_values('datadate')\n",
        "\n",
        "target['cusip'] = target['cusip'].astype(str)\n",
        "compustat['cusip'] = compustat['cusip'].astype(str)\n",
        "\n",
        "# We use 'cusip' here as per your request, but 'gvkey' is often recommended.\n",
        "merged_df = pd.merge_asof(\n",
        "    left=target,\n",
        "    right=compustat,\n",
        "    left_on='date',         # The monthly date from the left DataFrame\n",
        "    right_on='datadate',    # The quarterly date from the right DataFrame\n",
        "    by='cusip',             # The column for the EXACT match (firm identifier)\n",
        "    direction='backward',    # Find the latest quarterly report ON OR BEFORE the monthly date\n",
        "    allow_exact_matches=False\n",
        ")"
      ],
      "metadata": {
        "id": "ZJ8wocGWuHAM"
      },
      "execution_count": null,
      "outputs": []
    },
    {
      "cell_type": "code",
      "source": [
        "merged_df = merged_df.dropna(subset=['datadate'])"
      ],
      "metadata": {
        "id": "nqwMvqpsyHKw"
      },
      "execution_count": null,
      "outputs": []
    },
    {
      "cell_type": "code",
      "source": [
        "merged_df.columns"
      ],
      "metadata": {
        "colab": {
          "base_uri": "https://localhost:8080/"
        },
        "id": "UO61v_W--QuL",
        "outputId": "2e08e4d9-05f0-4f03-98e9-d07362d07d22"
      },
      "execution_count": null,
      "outputs": [
        {
          "output_type": "execute_result",
          "data": {
            "text/plain": [
              "Index(['permno', 'cusip', 'ticker', 'industry', 'date', 'ret', 'ret_market',\n",
              "       'ret_now_sign', 'ret_lag1', 'ret_trend1_sign', 'ret_cum_forward3m',\n",
              "       'ret_cum_forward3m_sign', 'ret_cum_forward12m',\n",
              "       'ret_cum_forward12m_sign', 'ret_cum_backward3m', 'ret_cum_backward6m',\n",
              "       'ret_cum_backward12m', 'gvkey', 'datadate', 'capxy', 'chechy', 'cshfdy',\n",
              "       'cshpry', 'dltry', 'dpcy', 'epspxy', 'oibdpy', 'txty'],\n",
              "      dtype='object')"
            ]
          },
          "metadata": {},
          "execution_count": 60
        }
      ]
    },
    {
      "cell_type": "code",
      "source": [
        "merged_df.shape"
      ],
      "metadata": {
        "colab": {
          "base_uri": "https://localhost:8080/"
        },
        "id": "ofnzgbV8vgdk",
        "outputId": "1c5f1a32-cbcd-45ad-89dc-c5578e059195"
      },
      "execution_count": null,
      "outputs": [
        {
          "output_type": "execute_result",
          "data": {
            "text/plain": [
              "(2015071, 28)"
            ]
          },
          "metadata": {},
          "execution_count": 68
        }
      ]
    },
    {
      "cell_type": "code",
      "source": [
        "target_folder = \"/content/drive/MyDrive/ML_Project/combined\"\n",
        "os.makedirs(target_folder, exist_ok=True)\n",
        "output_path_csv = os.path.join(target_folder, \"target_compustat_merged.csv\")\n",
        "merged_df.to_csv(output_path_csv, index=False)"
      ],
      "metadata": {
        "id": "YOAqLDdx-CgK"
      },
      "execution_count": null,
      "outputs": []
    },
    {
      "cell_type": "markdown",
      "source": [
        "# Start from here after first run"
      ],
      "metadata": {
        "id": "3-ByOWFG5EcR"
      }
    },
    {
      "cell_type": "code",
      "source": [
        "merged_df = pd.read_csv('/content/drive/MyDrive/ML_Project/combined/merged.csv')"
      ],
      "metadata": {
        "id": "0kTlkaOKjtdl"
      },
      "execution_count": null,
      "outputs": []
    },
    {
      "cell_type": "code",
      "source": [
        "merged_df.shape"
      ],
      "metadata": {
        "colab": {
          "base_uri": "https://localhost:8080/"
        },
        "id": "CLa8zwzqz1lm",
        "outputId": "3b325bf0-fc2a-4d25-9c11-c60659d29f7e"
      },
      "execution_count": null,
      "outputs": [
        {
          "output_type": "execute_result",
          "data": {
            "text/plain": [
              "(2015071, 28)"
            ]
          },
          "metadata": {},
          "execution_count": 24
        }
      ]
    },
    {
      "cell_type": "code",
      "source": [
        "import pandas as pd\n",
        "import glob\n",
        "import os\n",
        "\n",
        "# --- Step 1: Load and Combine all Parquet files ---\n",
        "\n",
        "# Define the path to the folder containing your files\n",
        "# Assuming they are in the 'data' directory. Change if necessary.\n",
        "path = '/content/drive/MyDrive/ML_Project/Earning_calls_embedding'\n",
        "file_pattern = os.path.join(path, 'text_embeddings_part_*.parquet')\n",
        "\n",
        "# Use glob to find all files matching the pattern\n",
        "parquet_files = sorted(glob.glob(file_pattern))\n",
        "\n",
        "if not parquet_files:\n",
        "    print(\"Error: No Parquet files found. Check your path and file pattern.\")\n",
        "else:\n",
        "    print(f\"Found {len(parquet_files)} files to load.\")\n",
        "    print(parquet_files)\n",
        "\n",
        "    # Load each parquet file into a list of DataFrames\n",
        "    list_of_dfs = [pd.read_parquet(f) for f in parquet_files]\n",
        "\n",
        "    # Concatenate all DataFrames into a single one\n",
        "    embeddings_df = pd.concat(list_of_dfs)\n",
        "\n",
        "    print(f\"\\nCombined Embeddings DataFrame shape: {embeddings_df.shape}\")\n",
        "    print(\"Embeddings DataFrame columns:\", embeddings_df.columns.tolist())\n",
        "    print(\"Embeddings DataFrame dtypes:\\n\", embeddings_df.dtypes)"
      ],
      "metadata": {
        "colab": {
          "base_uri": "https://localhost:8080/"
        },
        "id": "KGWBhcSK-jKF",
        "outputId": "5cba3bfb-01d5-4ccc-a353-e2cec3321528"
      },
      "execution_count": null,
      "outputs": [
        {
          "output_type": "stream",
          "name": "stdout",
          "text": [
            "Found 9 files to load.\n",
            "['/content/drive/MyDrive/ML_Project/Earning_calls_embedding/text_embeddings_part_000.parquet', '/content/drive/MyDrive/ML_Project/Earning_calls_embedding/text_embeddings_part_001.parquet', '/content/drive/MyDrive/ML_Project/Earning_calls_embedding/text_embeddings_part_002.parquet', '/content/drive/MyDrive/ML_Project/Earning_calls_embedding/text_embeddings_part_003.parquet', '/content/drive/MyDrive/ML_Project/Earning_calls_embedding/text_embeddings_part_004.parquet', '/content/drive/MyDrive/ML_Project/Earning_calls_embedding/text_embeddings_part_005.parquet', '/content/drive/MyDrive/ML_Project/Earning_calls_embedding/text_embeddings_part_006.parquet', '/content/drive/MyDrive/ML_Project/Earning_calls_embedding/text_embeddings_part_007.parquet', '/content/drive/MyDrive/ML_Project/Earning_calls_embedding/text_embeddings_part_008.parquet']\n",
            "\n",
            "Combined Embeddings DataFrame shape: (216274, 4)\n",
            "Embeddings DataFrame columns: ['Date', 'transcriptid', 'gvkey', 'embedding_vector']\n",
            "Embeddings DataFrame dtypes:\n",
            " Date                datetime64[us]\n",
            "transcriptid                 int64\n",
            "gvkey               string[python]\n",
            "embedding_vector            object\n",
            "dtype: object\n"
          ]
        }
      ]
    },
    {
      "cell_type": "code",
      "source": [
        "embeddings_df.columns"
      ],
      "metadata": {
        "colab": {
          "base_uri": "https://localhost:8080/"
        },
        "id": "wDCgiIFRkdwG",
        "outputId": "d31dea61-5cc9-4e48-ab69-d5d5b385c9d2"
      },
      "execution_count": null,
      "outputs": [
        {
          "output_type": "execute_result",
          "data": {
            "text/plain": [
              "Index(['Date', 'transcriptid', 'gvkey', 'embedding_vector'], dtype='object')"
            ]
          },
          "metadata": {},
          "execution_count": 19
        }
      ]
    },
    {
      "cell_type": "code",
      "source": [
        "# target_folder = \"/content/drive/MyDrive/ML_Project/combined\"\n",
        "# os.makedirs(target_folder, exist_ok=True)\n",
        "# output_path_csv = os.path.join(target_folder, \"embeddings.csv\")\n",
        "# embeddings_df.to_csv(output_path_csv, index=False)"
      ],
      "metadata": {
        "id": "JF17qIIiDPa3"
      },
      "execution_count": null,
      "outputs": []
    },
    {
      "cell_type": "code",
      "source": [
        "import pandas as pd\n",
        "\n",
        "# Assume 'merged_df' and 'embeddings_df' are your pre-existing DataFrames.\n",
        "\n",
        "# --- Step 1: Prepare Both DataFrames ---\n",
        "embeddings_df.rename(columns={'Date': 'date'}, inplace=True)\n",
        "\n",
        "# 1. Ensure the date columns are proper datetime objects\n",
        "print(\"Converting date columns to datetime objects...\")\n",
        "merged_df['date'] = pd.to_datetime(merged_df['date'])\n",
        "embeddings_df['date'] = pd.to_datetime(embeddings_df['date'])\n",
        "\n",
        "# =====================================================================\n",
        "# FIX: Force both date columns to have the same nanosecond precision\n",
        "# This will resolve the incompatible keys error.\n",
        "print(\"Standardizing datetime precision to nanoseconds (ns)...\")\n",
        "merged_df['date'] = merged_df['date'].astype('datetime64[ns]')\n",
        "embeddings_df['date'] = embeddings_df['date'].astype('datetime64[ns]')\n",
        "embeddings_df.rename(columns={'date': 'report_date'}, inplace=True)\n",
        "\n",
        "# =====================================================================\n",
        "\n",
        "if 'gvkey' in embeddings_df.columns:\n",
        "    embeddings_df['gvkey'] = embeddings_df['gvkey'].astype(int)\n",
        "if 'gvkey' in merged_df.columns:\n",
        "    merged_df['gvkey'] = merged_df['gvkey'].astype(int)\n",
        "\n",
        "# =====================================================================\n",
        "\n",
        "# 1c. IMPORTANT: Sort BOTH DataFrames by the 'date' column.\n",
        "print(\"Sorting both DataFrames by date...\")\n",
        "merged_df = merged_df.sort_values('date')\n",
        "embeddings_df = embeddings_df.sort_values('report_date')\n",
        "\n",
        "# --- Step 2: Perform the As-of Merge (this part remains the same) ---\n",
        "\n",
        "print(\"Performing the as-of merge...\")\n",
        "final_df = pd.merge_asof(\n",
        "    left=merged_df,\n",
        "    right=embeddings_df,\n",
        "    left_on='date',              # The column for the \"as-of\" join\n",
        "    right_on='report_date',\n",
        "    by='gvkey',             # The column for the exact match\n",
        "    direction='backward',    # Find the latest date in `right` on or before the date in `left`\n",
        "    allow_exact_matches=False\n",
        ")\n",
        "\n",
        "# --- Step 3: Inspect the Results ---\n",
        "\n",
        "print(\"\\nMerge complete. Final DataFrame shape:\", final_df.shape)\n",
        "print(final_df.head())"
      ],
      "metadata": {
        "colab": {
          "base_uri": "https://localhost:8080/"
        },
        "id": "SgbUrwHjAris",
        "outputId": "be54009e-578d-4d96-add3-8c50b9a15c15"
      },
      "execution_count": null,
      "outputs": [
        {
          "output_type": "stream",
          "name": "stdout",
          "text": [
            "Converting date columns to datetime objects...\n",
            "Standardizing datetime precision to nanoseconds (ns)...\n",
            "Sorting both DataFrames by date...\n",
            "Performing the as-of merge...\n",
            "\n",
            "Merge complete. Final DataFrame shape: (2015071, 31)\n",
            "   permno     cusip ticker  industry       date       ret  ret_market  \\\n",
            "0   82160  23221710   CBUK         0 2000-02-29 -0.129944   -0.020108   \n",
            "1   26201  20582620   CMTL         0 2000-02-29  0.343284   -0.020108   \n",
            "2   79560  95766W10    SBG         0 2000-02-29  0.009197   -0.020108   \n",
            "3   10423  83606610   SUND         0 2000-02-29 -0.040541   -0.020108   \n",
            "4   83896  74621T20   PURE         0 2000-02-29  0.573770   -0.020108   \n",
            "\n",
            "   ret_now_sign  ret_lag1  ret_trend1_sign  ...  cshfdy  cshpry  dltry   dpcy  \\\n",
            "0          -1.0 -0.268595              1.0  ...   9.880   9.670  0.244  2.780   \n",
            "1           1.0  0.135593              1.0  ...   5.120   4.438  1.322  0.817   \n",
            "2           1.0  0.009197              NaN  ...   4.984   4.456  0.153  1.101   \n",
            "3          -1.0 -0.244898              1.0  ...   4.224   3.746  0.596  3.459   \n",
            "4           1.0 -0.016129              1.0  ...   7.702   4.451  0.000  0.072   \n",
            "\n",
            "   epspxy  oibdpy   txty  report_date transcriptid  embedding_vector  \n",
            "0    0.50  10.529  2.720          NaT          NaN               NaN  \n",
            "1    0.27   2.726  0.694          NaT          NaN               NaN  \n",
            "2    0.11  -0.281 -0.160          NaT          NaN               NaN  \n",
            "3    1.74  10.241 -1.218          NaT          NaN               NaN  \n",
            "4   -0.06  -0.159  0.000          NaT          NaN               NaN  \n",
            "\n",
            "[5 rows x 31 columns]\n"
          ]
        }
      ]
    },
    {
      "cell_type": "code",
      "source": [
        "final_df_matched = final_df.dropna(subset=['embedding_vector'])"
      ],
      "metadata": {
        "id": "5S_D-J5TCDst"
      },
      "execution_count": null,
      "outputs": []
    },
    {
      "cell_type": "code",
      "source": [
        "final_df_matched.isna().sum()"
      ],
      "metadata": {
        "colab": {
          "base_uri": "https://localhost:8080/",
          "height": 1000
        },
        "id": "7h-QNDncDk92",
        "outputId": "66b20ac4-7173-4087-8549-da5fa2579b78"
      },
      "execution_count": null,
      "outputs": [
        {
          "output_type": "execute_result",
          "data": {
            "text/plain": [
              "permno                         0\n",
              "cusip                          0\n",
              "ticker                      2956\n",
              "industry                       0\n",
              "date                           0\n",
              "ret                            0\n",
              "ret_market                     0\n",
              "ret_now_sign                2417\n",
              "ret_lag1                     378\n",
              "ret_trend1_sign              785\n",
              "ret_cum_forward3m          12177\n",
              "ret_cum_forward3m_sign     12182\n",
              "ret_cum_forward12m         66243\n",
              "ret_cum_forward12m_sign    66243\n",
              "ret_cum_backward3m          2018\n",
              "ret_cum_backward6m          5887\n",
              "ret_cum_backward12m        15397\n",
              "gvkey                          0\n",
              "datadate                       0\n",
              "capxy                          0\n",
              "chechy                         0\n",
              "cshfdy                         0\n",
              "cshpry                         0\n",
              "dltry                          0\n",
              "dpcy                           0\n",
              "epspxy                         0\n",
              "oibdpy                         0\n",
              "txty                           0\n",
              "report_date                    0\n",
              "transcriptid                   0\n",
              "embedding_vector               0\n",
              "dtype: int64"
            ],
            "text/html": [
              "<div>\n",
              "<style scoped>\n",
              "    .dataframe tbody tr th:only-of-type {\n",
              "        vertical-align: middle;\n",
              "    }\n",
              "\n",
              "    .dataframe tbody tr th {\n",
              "        vertical-align: top;\n",
              "    }\n",
              "\n",
              "    .dataframe thead th {\n",
              "        text-align: right;\n",
              "    }\n",
              "</style>\n",
              "<table border=\"1\" class=\"dataframe\">\n",
              "  <thead>\n",
              "    <tr style=\"text-align: right;\">\n",
              "      <th></th>\n",
              "      <th>0</th>\n",
              "    </tr>\n",
              "  </thead>\n",
              "  <tbody>\n",
              "    <tr>\n",
              "      <th>permno</th>\n",
              "      <td>0</td>\n",
              "    </tr>\n",
              "    <tr>\n",
              "      <th>cusip</th>\n",
              "      <td>0</td>\n",
              "    </tr>\n",
              "    <tr>\n",
              "      <th>ticker</th>\n",
              "      <td>2956</td>\n",
              "    </tr>\n",
              "    <tr>\n",
              "      <th>industry</th>\n",
              "      <td>0</td>\n",
              "    </tr>\n",
              "    <tr>\n",
              "      <th>date</th>\n",
              "      <td>0</td>\n",
              "    </tr>\n",
              "    <tr>\n",
              "      <th>ret</th>\n",
              "      <td>0</td>\n",
              "    </tr>\n",
              "    <tr>\n",
              "      <th>ret_market</th>\n",
              "      <td>0</td>\n",
              "    </tr>\n",
              "    <tr>\n",
              "      <th>ret_now_sign</th>\n",
              "      <td>2417</td>\n",
              "    </tr>\n",
              "    <tr>\n",
              "      <th>ret_lag1</th>\n",
              "      <td>378</td>\n",
              "    </tr>\n",
              "    <tr>\n",
              "      <th>ret_trend1_sign</th>\n",
              "      <td>785</td>\n",
              "    </tr>\n",
              "    <tr>\n",
              "      <th>ret_cum_forward3m</th>\n",
              "      <td>12177</td>\n",
              "    </tr>\n",
              "    <tr>\n",
              "      <th>ret_cum_forward3m_sign</th>\n",
              "      <td>12182</td>\n",
              "    </tr>\n",
              "    <tr>\n",
              "      <th>ret_cum_forward12m</th>\n",
              "      <td>66243</td>\n",
              "    </tr>\n",
              "    <tr>\n",
              "      <th>ret_cum_forward12m_sign</th>\n",
              "      <td>66243</td>\n",
              "    </tr>\n",
              "    <tr>\n",
              "      <th>ret_cum_backward3m</th>\n",
              "      <td>2018</td>\n",
              "    </tr>\n",
              "    <tr>\n",
              "      <th>ret_cum_backward6m</th>\n",
              "      <td>5887</td>\n",
              "    </tr>\n",
              "    <tr>\n",
              "      <th>ret_cum_backward12m</th>\n",
              "      <td>15397</td>\n",
              "    </tr>\n",
              "    <tr>\n",
              "      <th>gvkey</th>\n",
              "      <td>0</td>\n",
              "    </tr>\n",
              "    <tr>\n",
              "      <th>datadate</th>\n",
              "      <td>0</td>\n",
              "    </tr>\n",
              "    <tr>\n",
              "      <th>capxy</th>\n",
              "      <td>0</td>\n",
              "    </tr>\n",
              "    <tr>\n",
              "      <th>chechy</th>\n",
              "      <td>0</td>\n",
              "    </tr>\n",
              "    <tr>\n",
              "      <th>cshfdy</th>\n",
              "      <td>0</td>\n",
              "    </tr>\n",
              "    <tr>\n",
              "      <th>cshpry</th>\n",
              "      <td>0</td>\n",
              "    </tr>\n",
              "    <tr>\n",
              "      <th>dltry</th>\n",
              "      <td>0</td>\n",
              "    </tr>\n",
              "    <tr>\n",
              "      <th>dpcy</th>\n",
              "      <td>0</td>\n",
              "    </tr>\n",
              "    <tr>\n",
              "      <th>epspxy</th>\n",
              "      <td>0</td>\n",
              "    </tr>\n",
              "    <tr>\n",
              "      <th>oibdpy</th>\n",
              "      <td>0</td>\n",
              "    </tr>\n",
              "    <tr>\n",
              "      <th>txty</th>\n",
              "      <td>0</td>\n",
              "    </tr>\n",
              "    <tr>\n",
              "      <th>report_date</th>\n",
              "      <td>0</td>\n",
              "    </tr>\n",
              "    <tr>\n",
              "      <th>transcriptid</th>\n",
              "      <td>0</td>\n",
              "    </tr>\n",
              "    <tr>\n",
              "      <th>embedding_vector</th>\n",
              "      <td>0</td>\n",
              "    </tr>\n",
              "  </tbody>\n",
              "</table>\n",
              "</div><br><label><b>dtype:</b> int64</label>"
            ]
          },
          "metadata": {},
          "execution_count": 29
        }
      ]
    },
    {
      "cell_type": "code",
      "source": [
        "final_df_matched[['date', 'datadate','report_date']]"
      ],
      "metadata": {
        "colab": {
          "base_uri": "https://localhost:8080/",
          "height": 423
        },
        "id": "diaWn9H7zcEc",
        "outputId": "5677b6b3-3d4b-4c66-87e1-3c0e0201f430"
      },
      "execution_count": null,
      "outputs": [
        {
          "output_type": "execute_result",
          "data": {
            "text/plain": [
              "              date    datadate report_date\n",
              "736971  2010-01-29  2009-11-30  2010-01-07\n",
              "736984  2010-01-29  2009-12-31  2010-01-28\n",
              "737002  2010-01-29  2009-11-30  2010-01-06\n",
              "737014  2010-01-29  2009-12-31  2010-01-28\n",
              "737036  2010-01-29  2009-12-31  2010-01-28\n",
              "...            ...         ...         ...\n",
              "2015057 2024-12-31  2024-09-30  2020-11-11\n",
              "2015059 2024-12-31  2024-09-30  2020-11-10\n",
              "2015063 2024-12-31  2024-10-31  2020-12-02\n",
              "2015069 2024-12-31  2024-09-30  2020-10-28\n",
              "2015070 2024-12-31  2024-09-30  2020-10-21\n",
              "\n",
              "[625589 rows x 3 columns]"
            ],
            "text/html": [
              "\n",
              "  <div id=\"df-38923822-f749-4979-8ede-0c7333066919\" class=\"colab-df-container\">\n",
              "    <div>\n",
              "<style scoped>\n",
              "    .dataframe tbody tr th:only-of-type {\n",
              "        vertical-align: middle;\n",
              "    }\n",
              "\n",
              "    .dataframe tbody tr th {\n",
              "        vertical-align: top;\n",
              "    }\n",
              "\n",
              "    .dataframe thead th {\n",
              "        text-align: right;\n",
              "    }\n",
              "</style>\n",
              "<table border=\"1\" class=\"dataframe\">\n",
              "  <thead>\n",
              "    <tr style=\"text-align: right;\">\n",
              "      <th></th>\n",
              "      <th>date</th>\n",
              "      <th>datadate</th>\n",
              "      <th>report_date</th>\n",
              "    </tr>\n",
              "  </thead>\n",
              "  <tbody>\n",
              "    <tr>\n",
              "      <th>736971</th>\n",
              "      <td>2010-01-29</td>\n",
              "      <td>2009-11-30</td>\n",
              "      <td>2010-01-07</td>\n",
              "    </tr>\n",
              "    <tr>\n",
              "      <th>736984</th>\n",
              "      <td>2010-01-29</td>\n",
              "      <td>2009-12-31</td>\n",
              "      <td>2010-01-28</td>\n",
              "    </tr>\n",
              "    <tr>\n",
              "      <th>737002</th>\n",
              "      <td>2010-01-29</td>\n",
              "      <td>2009-11-30</td>\n",
              "      <td>2010-01-06</td>\n",
              "    </tr>\n",
              "    <tr>\n",
              "      <th>737014</th>\n",
              "      <td>2010-01-29</td>\n",
              "      <td>2009-12-31</td>\n",
              "      <td>2010-01-28</td>\n",
              "    </tr>\n",
              "    <tr>\n",
              "      <th>737036</th>\n",
              "      <td>2010-01-29</td>\n",
              "      <td>2009-12-31</td>\n",
              "      <td>2010-01-28</td>\n",
              "    </tr>\n",
              "    <tr>\n",
              "      <th>...</th>\n",
              "      <td>...</td>\n",
              "      <td>...</td>\n",
              "      <td>...</td>\n",
              "    </tr>\n",
              "    <tr>\n",
              "      <th>2015057</th>\n",
              "      <td>2024-12-31</td>\n",
              "      <td>2024-09-30</td>\n",
              "      <td>2020-11-11</td>\n",
              "    </tr>\n",
              "    <tr>\n",
              "      <th>2015059</th>\n",
              "      <td>2024-12-31</td>\n",
              "      <td>2024-09-30</td>\n",
              "      <td>2020-11-10</td>\n",
              "    </tr>\n",
              "    <tr>\n",
              "      <th>2015063</th>\n",
              "      <td>2024-12-31</td>\n",
              "      <td>2024-10-31</td>\n",
              "      <td>2020-12-02</td>\n",
              "    </tr>\n",
              "    <tr>\n",
              "      <th>2015069</th>\n",
              "      <td>2024-12-31</td>\n",
              "      <td>2024-09-30</td>\n",
              "      <td>2020-10-28</td>\n",
              "    </tr>\n",
              "    <tr>\n",
              "      <th>2015070</th>\n",
              "      <td>2024-12-31</td>\n",
              "      <td>2024-09-30</td>\n",
              "      <td>2020-10-21</td>\n",
              "    </tr>\n",
              "  </tbody>\n",
              "</table>\n",
              "<p>625589 rows × 3 columns</p>\n",
              "</div>\n",
              "    <div class=\"colab-df-buttons\">\n",
              "\n",
              "  <div class=\"colab-df-container\">\n",
              "    <button class=\"colab-df-convert\" onclick=\"convertToInteractive('df-38923822-f749-4979-8ede-0c7333066919')\"\n",
              "            title=\"Convert this dataframe to an interactive table.\"\n",
              "            style=\"display:none;\">\n",
              "\n",
              "  <svg xmlns=\"http://www.w3.org/2000/svg\" height=\"24px\" viewBox=\"0 -960 960 960\">\n",
              "    <path d=\"M120-120v-720h720v720H120Zm60-500h600v-160H180v160Zm220 220h160v-160H400v160Zm0 220h160v-160H400v160ZM180-400h160v-160H180v160Zm440 0h160v-160H620v160ZM180-180h160v-160H180v160Zm440 0h160v-160H620v160Z\"/>\n",
              "  </svg>\n",
              "    </button>\n",
              "\n",
              "  <style>\n",
              "    .colab-df-container {\n",
              "      display:flex;\n",
              "      gap: 12px;\n",
              "    }\n",
              "\n",
              "    .colab-df-convert {\n",
              "      background-color: #E8F0FE;\n",
              "      border: none;\n",
              "      border-radius: 50%;\n",
              "      cursor: pointer;\n",
              "      display: none;\n",
              "      fill: #1967D2;\n",
              "      height: 32px;\n",
              "      padding: 0 0 0 0;\n",
              "      width: 32px;\n",
              "    }\n",
              "\n",
              "    .colab-df-convert:hover {\n",
              "      background-color: #E2EBFA;\n",
              "      box-shadow: 0px 1px 2px rgba(60, 64, 67, 0.3), 0px 1px 3px 1px rgba(60, 64, 67, 0.15);\n",
              "      fill: #174EA6;\n",
              "    }\n",
              "\n",
              "    .colab-df-buttons div {\n",
              "      margin-bottom: 4px;\n",
              "    }\n",
              "\n",
              "    [theme=dark] .colab-df-convert {\n",
              "      background-color: #3B4455;\n",
              "      fill: #D2E3FC;\n",
              "    }\n",
              "\n",
              "    [theme=dark] .colab-df-convert:hover {\n",
              "      background-color: #434B5C;\n",
              "      box-shadow: 0px 1px 3px 1px rgba(0, 0, 0, 0.15);\n",
              "      filter: drop-shadow(0px 1px 2px rgba(0, 0, 0, 0.3));\n",
              "      fill: #FFFFFF;\n",
              "    }\n",
              "  </style>\n",
              "\n",
              "    <script>\n",
              "      const buttonEl =\n",
              "        document.querySelector('#df-38923822-f749-4979-8ede-0c7333066919 button.colab-df-convert');\n",
              "      buttonEl.style.display =\n",
              "        google.colab.kernel.accessAllowed ? 'block' : 'none';\n",
              "\n",
              "      async function convertToInteractive(key) {\n",
              "        const element = document.querySelector('#df-38923822-f749-4979-8ede-0c7333066919');\n",
              "        const dataTable =\n",
              "          await google.colab.kernel.invokeFunction('convertToInteractive',\n",
              "                                                    [key], {});\n",
              "        if (!dataTable) return;\n",
              "\n",
              "        const docLinkHtml = 'Like what you see? Visit the ' +\n",
              "          '<a target=\"_blank\" href=https://colab.research.google.com/notebooks/data_table.ipynb>data table notebook</a>'\n",
              "          + ' to learn more about interactive tables.';\n",
              "        element.innerHTML = '';\n",
              "        dataTable['output_type'] = 'display_data';\n",
              "        await google.colab.output.renderOutput(dataTable, element);\n",
              "        const docLink = document.createElement('div');\n",
              "        docLink.innerHTML = docLinkHtml;\n",
              "        element.appendChild(docLink);\n",
              "      }\n",
              "    </script>\n",
              "  </div>\n",
              "\n",
              "\n",
              "    <div id=\"df-cb9f2e75-d9f8-4465-ab70-e955352aef17\">\n",
              "      <button class=\"colab-df-quickchart\" onclick=\"quickchart('df-cb9f2e75-d9f8-4465-ab70-e955352aef17')\"\n",
              "                title=\"Suggest charts\"\n",
              "                style=\"display:none;\">\n",
              "\n",
              "<svg xmlns=\"http://www.w3.org/2000/svg\" height=\"24px\"viewBox=\"0 0 24 24\"\n",
              "     width=\"24px\">\n",
              "    <g>\n",
              "        <path d=\"M19 3H5c-1.1 0-2 .9-2 2v14c0 1.1.9 2 2 2h14c1.1 0 2-.9 2-2V5c0-1.1-.9-2-2-2zM9 17H7v-7h2v7zm4 0h-2V7h2v10zm4 0h-2v-4h2v4z\"/>\n",
              "    </g>\n",
              "</svg>\n",
              "      </button>\n",
              "\n",
              "<style>\n",
              "  .colab-df-quickchart {\n",
              "      --bg-color: #E8F0FE;\n",
              "      --fill-color: #1967D2;\n",
              "      --hover-bg-color: #E2EBFA;\n",
              "      --hover-fill-color: #174EA6;\n",
              "      --disabled-fill-color: #AAA;\n",
              "      --disabled-bg-color: #DDD;\n",
              "  }\n",
              "\n",
              "  [theme=dark] .colab-df-quickchart {\n",
              "      --bg-color: #3B4455;\n",
              "      --fill-color: #D2E3FC;\n",
              "      --hover-bg-color: #434B5C;\n",
              "      --hover-fill-color: #FFFFFF;\n",
              "      --disabled-bg-color: #3B4455;\n",
              "      --disabled-fill-color: #666;\n",
              "  }\n",
              "\n",
              "  .colab-df-quickchart {\n",
              "    background-color: var(--bg-color);\n",
              "    border: none;\n",
              "    border-radius: 50%;\n",
              "    cursor: pointer;\n",
              "    display: none;\n",
              "    fill: var(--fill-color);\n",
              "    height: 32px;\n",
              "    padding: 0;\n",
              "    width: 32px;\n",
              "  }\n",
              "\n",
              "  .colab-df-quickchart:hover {\n",
              "    background-color: var(--hover-bg-color);\n",
              "    box-shadow: 0 1px 2px rgba(60, 64, 67, 0.3), 0 1px 3px 1px rgba(60, 64, 67, 0.15);\n",
              "    fill: var(--button-hover-fill-color);\n",
              "  }\n",
              "\n",
              "  .colab-df-quickchart-complete:disabled,\n",
              "  .colab-df-quickchart-complete:disabled:hover {\n",
              "    background-color: var(--disabled-bg-color);\n",
              "    fill: var(--disabled-fill-color);\n",
              "    box-shadow: none;\n",
              "  }\n",
              "\n",
              "  .colab-df-spinner {\n",
              "    border: 2px solid var(--fill-color);\n",
              "    border-color: transparent;\n",
              "    border-bottom-color: var(--fill-color);\n",
              "    animation:\n",
              "      spin 1s steps(1) infinite;\n",
              "  }\n",
              "\n",
              "  @keyframes spin {\n",
              "    0% {\n",
              "      border-color: transparent;\n",
              "      border-bottom-color: var(--fill-color);\n",
              "      border-left-color: var(--fill-color);\n",
              "    }\n",
              "    20% {\n",
              "      border-color: transparent;\n",
              "      border-left-color: var(--fill-color);\n",
              "      border-top-color: var(--fill-color);\n",
              "    }\n",
              "    30% {\n",
              "      border-color: transparent;\n",
              "      border-left-color: var(--fill-color);\n",
              "      border-top-color: var(--fill-color);\n",
              "      border-right-color: var(--fill-color);\n",
              "    }\n",
              "    40% {\n",
              "      border-color: transparent;\n",
              "      border-right-color: var(--fill-color);\n",
              "      border-top-color: var(--fill-color);\n",
              "    }\n",
              "    60% {\n",
              "      border-color: transparent;\n",
              "      border-right-color: var(--fill-color);\n",
              "    }\n",
              "    80% {\n",
              "      border-color: transparent;\n",
              "      border-right-color: var(--fill-color);\n",
              "      border-bottom-color: var(--fill-color);\n",
              "    }\n",
              "    90% {\n",
              "      border-color: transparent;\n",
              "      border-bottom-color: var(--fill-color);\n",
              "    }\n",
              "  }\n",
              "</style>\n",
              "\n",
              "      <script>\n",
              "        async function quickchart(key) {\n",
              "          const quickchartButtonEl =\n",
              "            document.querySelector('#' + key + ' button');\n",
              "          quickchartButtonEl.disabled = true;  // To prevent multiple clicks.\n",
              "          quickchartButtonEl.classList.add('colab-df-spinner');\n",
              "          try {\n",
              "            const charts = await google.colab.kernel.invokeFunction(\n",
              "                'suggestCharts', [key], {});\n",
              "          } catch (error) {\n",
              "            console.error('Error during call to suggestCharts:', error);\n",
              "          }\n",
              "          quickchartButtonEl.classList.remove('colab-df-spinner');\n",
              "          quickchartButtonEl.classList.add('colab-df-quickchart-complete');\n",
              "        }\n",
              "        (() => {\n",
              "          let quickchartButtonEl =\n",
              "            document.querySelector('#df-cb9f2e75-d9f8-4465-ab70-e955352aef17 button');\n",
              "          quickchartButtonEl.style.display =\n",
              "            google.colab.kernel.accessAllowed ? 'block' : 'none';\n",
              "        })();\n",
              "      </script>\n",
              "    </div>\n",
              "\n",
              "    </div>\n",
              "  </div>\n"
            ],
            "application/vnd.google.colaboratory.intrinsic+json": {
              "type": "dataframe"
            }
          },
          "metadata": {},
          "execution_count": 30
        }
      ]
    },
    {
      "cell_type": "code",
      "source": [
        "final_df_matched.isna().sum()"
      ],
      "metadata": {
        "colab": {
          "base_uri": "https://localhost:8080/",
          "height": 1000
        },
        "id": "DZjNePUz1Sjz",
        "outputId": "3800cc1a-a37c-4d04-802e-bb68d1638624"
      },
      "execution_count": null,
      "outputs": [
        {
          "output_type": "execute_result",
          "data": {
            "text/plain": [
              "permno                         0\n",
              "cusip                          0\n",
              "ticker                      2956\n",
              "industry                       0\n",
              "date                           0\n",
              "ret                            0\n",
              "ret_market                     0\n",
              "ret_now_sign                2417\n",
              "ret_lag1                     378\n",
              "ret_trend1_sign              785\n",
              "ret_cum_forward3m          12177\n",
              "ret_cum_forward3m_sign     12182\n",
              "ret_cum_forward12m         66243\n",
              "ret_cum_forward12m_sign    66243\n",
              "ret_cum_backward3m          2018\n",
              "ret_cum_backward6m          5887\n",
              "ret_cum_backward12m        15397\n",
              "gvkey                          0\n",
              "datadate                       0\n",
              "capxy                          0\n",
              "chechy                         0\n",
              "cshfdy                         0\n",
              "cshpry                         0\n",
              "dltry                          0\n",
              "dpcy                           0\n",
              "epspxy                         0\n",
              "oibdpy                         0\n",
              "txty                           0\n",
              "report_date                    0\n",
              "transcriptid                   0\n",
              "embedding_vector               0\n",
              "dtype: int64"
            ],
            "text/html": [
              "<div>\n",
              "<style scoped>\n",
              "    .dataframe tbody tr th:only-of-type {\n",
              "        vertical-align: middle;\n",
              "    }\n",
              "\n",
              "    .dataframe tbody tr th {\n",
              "        vertical-align: top;\n",
              "    }\n",
              "\n",
              "    .dataframe thead th {\n",
              "        text-align: right;\n",
              "    }\n",
              "</style>\n",
              "<table border=\"1\" class=\"dataframe\">\n",
              "  <thead>\n",
              "    <tr style=\"text-align: right;\">\n",
              "      <th></th>\n",
              "      <th>0</th>\n",
              "    </tr>\n",
              "  </thead>\n",
              "  <tbody>\n",
              "    <tr>\n",
              "      <th>permno</th>\n",
              "      <td>0</td>\n",
              "    </tr>\n",
              "    <tr>\n",
              "      <th>cusip</th>\n",
              "      <td>0</td>\n",
              "    </tr>\n",
              "    <tr>\n",
              "      <th>ticker</th>\n",
              "      <td>2956</td>\n",
              "    </tr>\n",
              "    <tr>\n",
              "      <th>industry</th>\n",
              "      <td>0</td>\n",
              "    </tr>\n",
              "    <tr>\n",
              "      <th>date</th>\n",
              "      <td>0</td>\n",
              "    </tr>\n",
              "    <tr>\n",
              "      <th>ret</th>\n",
              "      <td>0</td>\n",
              "    </tr>\n",
              "    <tr>\n",
              "      <th>ret_market</th>\n",
              "      <td>0</td>\n",
              "    </tr>\n",
              "    <tr>\n",
              "      <th>ret_now_sign</th>\n",
              "      <td>2417</td>\n",
              "    </tr>\n",
              "    <tr>\n",
              "      <th>ret_lag1</th>\n",
              "      <td>378</td>\n",
              "    </tr>\n",
              "    <tr>\n",
              "      <th>ret_trend1_sign</th>\n",
              "      <td>785</td>\n",
              "    </tr>\n",
              "    <tr>\n",
              "      <th>ret_cum_forward3m</th>\n",
              "      <td>12177</td>\n",
              "    </tr>\n",
              "    <tr>\n",
              "      <th>ret_cum_forward3m_sign</th>\n",
              "      <td>12182</td>\n",
              "    </tr>\n",
              "    <tr>\n",
              "      <th>ret_cum_forward12m</th>\n",
              "      <td>66243</td>\n",
              "    </tr>\n",
              "    <tr>\n",
              "      <th>ret_cum_forward12m_sign</th>\n",
              "      <td>66243</td>\n",
              "    </tr>\n",
              "    <tr>\n",
              "      <th>ret_cum_backward3m</th>\n",
              "      <td>2018</td>\n",
              "    </tr>\n",
              "    <tr>\n",
              "      <th>ret_cum_backward6m</th>\n",
              "      <td>5887</td>\n",
              "    </tr>\n",
              "    <tr>\n",
              "      <th>ret_cum_backward12m</th>\n",
              "      <td>15397</td>\n",
              "    </tr>\n",
              "    <tr>\n",
              "      <th>gvkey</th>\n",
              "      <td>0</td>\n",
              "    </tr>\n",
              "    <tr>\n",
              "      <th>datadate</th>\n",
              "      <td>0</td>\n",
              "    </tr>\n",
              "    <tr>\n",
              "      <th>capxy</th>\n",
              "      <td>0</td>\n",
              "    </tr>\n",
              "    <tr>\n",
              "      <th>chechy</th>\n",
              "      <td>0</td>\n",
              "    </tr>\n",
              "    <tr>\n",
              "      <th>cshfdy</th>\n",
              "      <td>0</td>\n",
              "    </tr>\n",
              "    <tr>\n",
              "      <th>cshpry</th>\n",
              "      <td>0</td>\n",
              "    </tr>\n",
              "    <tr>\n",
              "      <th>dltry</th>\n",
              "      <td>0</td>\n",
              "    </tr>\n",
              "    <tr>\n",
              "      <th>dpcy</th>\n",
              "      <td>0</td>\n",
              "    </tr>\n",
              "    <tr>\n",
              "      <th>epspxy</th>\n",
              "      <td>0</td>\n",
              "    </tr>\n",
              "    <tr>\n",
              "      <th>oibdpy</th>\n",
              "      <td>0</td>\n",
              "    </tr>\n",
              "    <tr>\n",
              "      <th>txty</th>\n",
              "      <td>0</td>\n",
              "    </tr>\n",
              "    <tr>\n",
              "      <th>report_date</th>\n",
              "      <td>0</td>\n",
              "    </tr>\n",
              "    <tr>\n",
              "      <th>transcriptid</th>\n",
              "      <td>0</td>\n",
              "    </tr>\n",
              "    <tr>\n",
              "      <th>embedding_vector</th>\n",
              "      <td>0</td>\n",
              "    </tr>\n",
              "  </tbody>\n",
              "</table>\n",
              "</div><br><label><b>dtype:</b> int64</label>"
            ]
          },
          "metadata": {},
          "execution_count": 14
        }
      ]
    },
    {
      "cell_type": "code",
      "source": [
        "final_df_matched.drop(columns=['ticker'], inplace=True)"
      ],
      "metadata": {
        "id": "XsErijKi4Nza",
        "colab": {
          "base_uri": "https://localhost:8080/"
        },
        "outputId": "b100ecf4-5261-40b5-cd1a-f505829fc334"
      },
      "execution_count": null,
      "outputs": [
        {
          "output_type": "stream",
          "name": "stderr",
          "text": [
            "<ipython-input-31-57f515d70d02>:1: SettingWithCopyWarning: \n",
            "A value is trying to be set on a copy of a slice from a DataFrame\n",
            "\n",
            "See the caveats in the documentation: https://pandas.pydata.org/pandas-docs/stable/user_guide/indexing.html#returning-a-view-versus-a-copy\n",
            "  final_df_matched.drop(columns=['ticker'], inplace=True)\n"
          ]
        }
      ]
    },
    {
      "cell_type": "code",
      "source": [
        "final_df_matched.dropna(subset=['ret_cum_backward12m'], inplace=True)"
      ],
      "metadata": {
        "colab": {
          "base_uri": "https://localhost:8080/"
        },
        "id": "AUjGjWSF4mq6",
        "outputId": "d726b0d1-2a1d-4d07-8d70-eaf21880a4d5"
      },
      "execution_count": null,
      "outputs": [
        {
          "output_type": "stream",
          "name": "stderr",
          "text": [
            "<ipython-input-32-6f88f1c0b6a5>:1: SettingWithCopyWarning: \n",
            "A value is trying to be set on a copy of a slice from a DataFrame\n",
            "\n",
            "See the caveats in the documentation: https://pandas.pydata.org/pandas-docs/stable/user_guide/indexing.html#returning-a-view-versus-a-copy\n",
            "  final_df_matched.dropna(subset=['ret_cum_backward12m'], inplace=True)\n"
          ]
        }
      ]
    },
    {
      "cell_type": "code",
      "source": [
        "final_df_matched.isna().sum()"
      ],
      "metadata": {
        "colab": {
          "base_uri": "https://localhost:8080/",
          "height": 1000
        },
        "id": "91_fOTH34osz",
        "outputId": "d6125cb2-a096-4e02-f53e-816585a3d2f8"
      },
      "execution_count": null,
      "outputs": [
        {
          "output_type": "execute_result",
          "data": {
            "text/plain": [
              "permno                         0\n",
              "cusip                          0\n",
              "industry                       0\n",
              "date                           0\n",
              "ret                            0\n",
              "ret_market                     0\n",
              "ret_now_sign                2364\n",
              "ret_lag1                       0\n",
              "ret_trend1_sign              403\n",
              "ret_cum_forward3m          12112\n",
              "ret_cum_forward3m_sign     12117\n",
              "ret_cum_forward12m         65624\n",
              "ret_cum_forward12m_sign    65624\n",
              "ret_cum_backward3m             0\n",
              "ret_cum_backward6m             0\n",
              "ret_cum_backward12m            0\n",
              "gvkey                          0\n",
              "datadate                       0\n",
              "capxy                          0\n",
              "chechy                         0\n",
              "cshfdy                         0\n",
              "cshpry                         0\n",
              "dltry                          0\n",
              "dpcy                           0\n",
              "epspxy                         0\n",
              "oibdpy                         0\n",
              "txty                           0\n",
              "report_date                    0\n",
              "transcriptid                   0\n",
              "embedding_vector               0\n",
              "dtype: int64"
            ],
            "text/html": [
              "<div>\n",
              "<style scoped>\n",
              "    .dataframe tbody tr th:only-of-type {\n",
              "        vertical-align: middle;\n",
              "    }\n",
              "\n",
              "    .dataframe tbody tr th {\n",
              "        vertical-align: top;\n",
              "    }\n",
              "\n",
              "    .dataframe thead th {\n",
              "        text-align: right;\n",
              "    }\n",
              "</style>\n",
              "<table border=\"1\" class=\"dataframe\">\n",
              "  <thead>\n",
              "    <tr style=\"text-align: right;\">\n",
              "      <th></th>\n",
              "      <th>0</th>\n",
              "    </tr>\n",
              "  </thead>\n",
              "  <tbody>\n",
              "    <tr>\n",
              "      <th>permno</th>\n",
              "      <td>0</td>\n",
              "    </tr>\n",
              "    <tr>\n",
              "      <th>cusip</th>\n",
              "      <td>0</td>\n",
              "    </tr>\n",
              "    <tr>\n",
              "      <th>industry</th>\n",
              "      <td>0</td>\n",
              "    </tr>\n",
              "    <tr>\n",
              "      <th>date</th>\n",
              "      <td>0</td>\n",
              "    </tr>\n",
              "    <tr>\n",
              "      <th>ret</th>\n",
              "      <td>0</td>\n",
              "    </tr>\n",
              "    <tr>\n",
              "      <th>ret_market</th>\n",
              "      <td>0</td>\n",
              "    </tr>\n",
              "    <tr>\n",
              "      <th>ret_now_sign</th>\n",
              "      <td>2364</td>\n",
              "    </tr>\n",
              "    <tr>\n",
              "      <th>ret_lag1</th>\n",
              "      <td>0</td>\n",
              "    </tr>\n",
              "    <tr>\n",
              "      <th>ret_trend1_sign</th>\n",
              "      <td>403</td>\n",
              "    </tr>\n",
              "    <tr>\n",
              "      <th>ret_cum_forward3m</th>\n",
              "      <td>12112</td>\n",
              "    </tr>\n",
              "    <tr>\n",
              "      <th>ret_cum_forward3m_sign</th>\n",
              "      <td>12117</td>\n",
              "    </tr>\n",
              "    <tr>\n",
              "      <th>ret_cum_forward12m</th>\n",
              "      <td>65624</td>\n",
              "    </tr>\n",
              "    <tr>\n",
              "      <th>ret_cum_forward12m_sign</th>\n",
              "      <td>65624</td>\n",
              "    </tr>\n",
              "    <tr>\n",
              "      <th>ret_cum_backward3m</th>\n",
              "      <td>0</td>\n",
              "    </tr>\n",
              "    <tr>\n",
              "      <th>ret_cum_backward6m</th>\n",
              "      <td>0</td>\n",
              "    </tr>\n",
              "    <tr>\n",
              "      <th>ret_cum_backward12m</th>\n",
              "      <td>0</td>\n",
              "    </tr>\n",
              "    <tr>\n",
              "      <th>gvkey</th>\n",
              "      <td>0</td>\n",
              "    </tr>\n",
              "    <tr>\n",
              "      <th>datadate</th>\n",
              "      <td>0</td>\n",
              "    </tr>\n",
              "    <tr>\n",
              "      <th>capxy</th>\n",
              "      <td>0</td>\n",
              "    </tr>\n",
              "    <tr>\n",
              "      <th>chechy</th>\n",
              "      <td>0</td>\n",
              "    </tr>\n",
              "    <tr>\n",
              "      <th>cshfdy</th>\n",
              "      <td>0</td>\n",
              "    </tr>\n",
              "    <tr>\n",
              "      <th>cshpry</th>\n",
              "      <td>0</td>\n",
              "    </tr>\n",
              "    <tr>\n",
              "      <th>dltry</th>\n",
              "      <td>0</td>\n",
              "    </tr>\n",
              "    <tr>\n",
              "      <th>dpcy</th>\n",
              "      <td>0</td>\n",
              "    </tr>\n",
              "    <tr>\n",
              "      <th>epspxy</th>\n",
              "      <td>0</td>\n",
              "    </tr>\n",
              "    <tr>\n",
              "      <th>oibdpy</th>\n",
              "      <td>0</td>\n",
              "    </tr>\n",
              "    <tr>\n",
              "      <th>txty</th>\n",
              "      <td>0</td>\n",
              "    </tr>\n",
              "    <tr>\n",
              "      <th>report_date</th>\n",
              "      <td>0</td>\n",
              "    </tr>\n",
              "    <tr>\n",
              "      <th>transcriptid</th>\n",
              "      <td>0</td>\n",
              "    </tr>\n",
              "    <tr>\n",
              "      <th>embedding_vector</th>\n",
              "      <td>0</td>\n",
              "    </tr>\n",
              "  </tbody>\n",
              "</table>\n",
              "</div><br><label><b>dtype:</b> int64</label>"
            ]
          },
          "metadata": {},
          "execution_count": 33
        }
      ]
    },
    {
      "cell_type": "code",
      "source": [
        "final_df_matched.shape"
      ],
      "metadata": {
        "colab": {
          "base_uri": "https://localhost:8080/"
        },
        "id": "oXxmBcEI-IAV",
        "outputId": "0c62d6bc-ab5f-4b87-8324-99ea23efcc95"
      },
      "execution_count": null,
      "outputs": [
        {
          "output_type": "execute_result",
          "data": {
            "text/plain": [
              "(610192, 30)"
            ]
          },
          "metadata": {},
          "execution_count": 34
        }
      ]
    },
    {
      "cell_type": "code",
      "source": [
        "target_folder = \"/content/drive/MyDrive/ML_Project/combined\"\n",
        "output_path_parquet = os.path.join(target_folder, \"final_data.parquet\")\n",
        "final_df_matched.to_parquet(output_path_parquet, index=False)"
      ],
      "metadata": {
        "id": "S9kOdoB0l6N2"
      },
      "execution_count": null,
      "outputs": []
    },
    {
      "cell_type": "code",
      "source": [
        "!ls -l /content/drive/MyDrive/ML_Project/combined"
      ],
      "metadata": {
        "colab": {
          "base_uri": "https://localhost:8080/"
        },
        "id": "u68TI6VxnZed",
        "outputId": "e2aa184f-1fd4-44a7-99bb-df21cad652b2"
      },
      "execution_count": null,
      "outputs": [
        {
          "output_type": "stream",
          "name": "stdout",
          "text": [
            "total 2376136\n",
            "-rw------- 1 root root 1933236844 Jun  7 15:22 final_data.parquet\n",
            "-rw------- 1 root root  499925735 Jun  7 14:27 merged.csv\n"
          ]
        }
      ]
    }
  ]
}